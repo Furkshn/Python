{
 "cells": [
  {
   "cell_type": "markdown",
   "metadata": {},
   "source": [
    "# Nesne Tabanlı Programlama - İnheritance"
   ]
  },
  {
   "cell_type": "code",
   "execution_count": 16,
   "metadata": {},
   "outputs": [],
   "source": [
    "class Çalışan():\n",
    "    def __init__(self,isim,maaş,departman):\n",
    "        print(\"Çalışan Sınıfın İnit Fonksiyonu\")\n",
    "        self.isim = isim\n",
    "        self.maaş = maaş\n",
    "        self.departman = departman\n",
    "        \n",
    "    def bilgiler(self):\n",
    "        \n",
    "        print(\"Çalışan Sınıfın Bilgileri...\")\n",
    "        print(\"\\n\")\n",
    "        \n",
    "        print(\"İsim : {} \\nMaaş: {} \\nDepartman: {}\\n\".format(self.isim,self.maaş,self.departman))\n",
    "        \n",
    "    def departman_degistir(self,yeni_departman):\n",
    "        print(\"Departman Değişiyor...\")\n",
    "        self.departman = yeni_departman"
   ]
  },
  {
   "cell_type": "code",
   "execution_count": 17,
   "metadata": {},
   "outputs": [],
   "source": [
    "class Yönetici(Çalışan):   # Bu Şekilde Yönetici Class'ı Çalışan Class'ından Methotları ve Özellikleri Almıştır.\n",
    "    pass\n"
   ]
  },
  {
   "cell_type": "code",
   "execution_count": 18,
   "metadata": {},
   "outputs": [
    {
     "name": "stdout",
     "output_type": "stream",
     "text": [
      "Çalışan Sınıfın İnit Fonksiyonu\n"
     ]
    }
   ],
   "source": [
    "yönetici = Yönetici(\"Furkan Mert Şahin\",4500,\"Bilişim\")"
   ]
  },
  {
   "cell_type": "code",
   "execution_count": 19,
   "metadata": {},
   "outputs": [
    {
     "data": {
      "text/plain": [
       "4500"
      ]
     },
     "execution_count": 19,
     "metadata": {},
     "output_type": "execute_result"
    }
   ],
   "source": [
    "yönetici.maaş"
   ]
  },
  {
   "cell_type": "code",
   "execution_count": 20,
   "metadata": {},
   "outputs": [
    {
     "name": "stdout",
     "output_type": "stream",
     "text": [
      "Çalışan Sınıfın Bilgileri...\n",
      "\n",
      "\n",
      "İsim : Furkan Mert Şahin \n",
      "Maaş: 4500 \n",
      "Departman: Bilişim\n",
      "\n"
     ]
    }
   ],
   "source": [
    "yönetici.bilgiler()"
   ]
  },
  {
   "cell_type": "code",
   "execution_count": 21,
   "metadata": {},
   "outputs": [
    {
     "name": "stdout",
     "output_type": "stream",
     "text": [
      "Departman Değişiyor...\n"
     ]
    }
   ],
   "source": [
    "yönetici.departman_degistir(\"Veri Analizi\")"
   ]
  },
  {
   "cell_type": "code",
   "execution_count": 22,
   "metadata": {},
   "outputs": [
    {
     "name": "stdout",
     "output_type": "stream",
     "text": [
      "Çalışan Sınıfın Bilgileri...\n",
      "\n",
      "\n",
      "İsim : Furkan Mert Şahin \n",
      "Maaş: 4500 \n",
      "Departman: Veri Analizi\n",
      "\n"
     ]
    }
   ],
   "source": [
    "yönetici.bilgiler()"
   ]
  },
  {
   "cell_type": "code",
   "execution_count": 23,
   "metadata": {},
   "outputs": [
    {
     "data": {
      "text/plain": [
       "['__class__',\n",
       " '__delattr__',\n",
       " '__dict__',\n",
       " '__dir__',\n",
       " '__doc__',\n",
       " '__eq__',\n",
       " '__format__',\n",
       " '__ge__',\n",
       " '__getattribute__',\n",
       " '__gt__',\n",
       " '__hash__',\n",
       " '__init__',\n",
       " '__init_subclass__',\n",
       " '__le__',\n",
       " '__lt__',\n",
       " '__module__',\n",
       " '__ne__',\n",
       " '__new__',\n",
       " '__reduce__',\n",
       " '__reduce_ex__',\n",
       " '__repr__',\n",
       " '__setattr__',\n",
       " '__sizeof__',\n",
       " '__str__',\n",
       " '__subclasshook__',\n",
       " '__weakref__',\n",
       " 'bilgiler',\n",
       " 'departman',\n",
       " 'departman_degistir',\n",
       " 'isim',\n",
       " 'maaş']"
      ]
     },
     "execution_count": 23,
     "metadata": {},
     "output_type": "execute_result"
    }
   ],
   "source": [
    "dir(yönetici)"
   ]
  },
  {
   "cell_type": "code",
   "execution_count": 30,
   "metadata": {},
   "outputs": [],
   "source": [
    "import time\n",
    "class Yönetici(Çalışan):   # Bu Şekilde Yönetici Class'ı Çalışan Class'ından Methotları ve Özellikleri Almıştır.\n",
    "    def zam_yap(self,yeni_zam):\n",
    "        yeni_zam = int(input(\"Zam Miktarı:\"))\n",
    "        print(\"Zam Ekleniyor...\")\n",
    "        self.maaş += yeni_zam\n",
    "        time.sleep(1)\n",
    "        print(\"Zam Eklendi !\")\n",
    "        print(\"\\n\")\n",
    "        \n",
    "        print(\"Yeni Maaş:\",self.maaş,\"Tl\")\n",
    "        "
   ]
  },
  {
   "cell_type": "code",
   "execution_count": 31,
   "metadata": {},
   "outputs": [
    {
     "name": "stdout",
     "output_type": "stream",
     "text": [
      "Çalışan Sınıfın İnit Fonksiyonu\n"
     ]
    }
   ],
   "source": [
    "yönetici = Yönetici(\"Furkan Mert Şahin\",4500,\"Bilişim\")"
   ]
  },
  {
   "cell_type": "code",
   "execution_count": 32,
   "metadata": {},
   "outputs": [
    {
     "name": "stdout",
     "output_type": "stream",
     "text": [
      "Zam Miktarı:1500\n",
      "Zam Ekleniyor...\n",
      "Zam Eklendi !\n",
      "\n",
      "\n",
      "Yeni Maaş: 6000 Tl\n"
     ]
    }
   ],
   "source": [
    "yönetici.zam_yap(1500)"
   ]
  },
  {
   "cell_type": "code",
   "execution_count": 2,
   "metadata": {},
   "outputs": [],
   "source": [
    "class Çalışan():\n",
    "    def __init__(self,isim,maaş,departman):\n",
    "        print(\"Çalışan Sınıfın İnit Fonksiyonu\")\n",
    "        self.isim = isim\n",
    "        self.maaş = maaş\n",
    "        self.departman = departman\n",
    "        \n",
    "    def bilgiler(self):\n",
    "        \n",
    "        print(\"Çalışan Sınıfın Bilgileri...\")\n",
    "        print(\"\\n\")\n",
    "        \n",
    "        print(\"İsim : {} \\nMaaş: {} \\nDepartman: {}\\n\".format(self.isim,self.maaş,self.departman))\n",
    "        \n",
    "    def departman_degistir(self,yeni_departman):\n",
    "        print(\"Departman Değişiyor...\")\n",
    "        self.departman = yeni_departman"
   ]
  },
  {
   "cell_type": "code",
   "execution_count": null,
   "metadata": {},
   "outputs": [],
   "source": [
    "\n",
    "# Eğer biz miras aldığımız metodları aynı isimle kendi sınıfımızda tekrar tanımlarsak , artık metodu çağırdığımız zaman miras aldığımız değil kendi metodumuz çalışacaktır.\n",
    "\n",
    "# Buna Nesne Tabanlı Programlamada bir metodu override etmek denmektedir.\n",
    "\n",
    "# Örneğin artık Çalışan sınıfının init metodunu kullanmak yerine Yönetici sınıfında init metodunu override edebiliriz. \n",
    "\n",
    "# Böylelikle Yönetici sınıfına ekstra özellikler(attribute) ekleyebiliriz.\n"
   ]
  },
  {
   "cell_type": "code",
   "execution_count": 11,
   "metadata": {},
   "outputs": [],
   "source": [
    "import time\n",
    "class Yönetici(Çalışan):   # Bu Şekilde Yönetici Class'ı Çalışan Class'ından Methotları ve Özellikleri Almıştır.\n",
    "    def __init__(self,isim,maaş,departman,kişi_sayısı):\n",
    "        print(\"Yönetici Sınıfın İnit Fonksiyonu\")\n",
    "        self.isim = isim\n",
    "        self.maaş = maaş\n",
    "        self.departman = departman\n",
    "        self.kişi_sayısı = kişi_sayısı\n",
    "        \n",
    "    def bilgiler(self):\n",
    "        \n",
    "        print(\"Çalışan Sınıfın Bilgileri...\")\n",
    "        print(\"\\n\")\n",
    "        \n",
    "        print(\"İsim : {} \\nMaaş: {} \\nDepartman: {}\\nSorumlu Olduğu Kişi Sayısı: {}\".format(self.isim,self.maaş,self.departman,self.kişi_sayısı))\n",
    "        \n",
    "    def zam_yap(self,yeni_zam):\n",
    "        yeni_zam = int(input(\"Zam Miktarı:\"))\n",
    "        print(\"Zam Ekleniyor...\")\n",
    "        self.maaş += yeni_zam\n",
    "        time.sleep(1)\n",
    "        print(\"Zam Eklendi !\")\n",
    "        print(\"\\n\")\n",
    "        \n",
    "        print(\"Yeni Maaş:\",self.maaş,\"Tl\")"
   ]
  },
  {
   "cell_type": "code",
   "execution_count": 12,
   "metadata": {},
   "outputs": [
    {
     "name": "stdout",
     "output_type": "stream",
     "text": [
      "Yönetici Sınıfın İnit Fonksiyonu\n"
     ]
    }
   ],
   "source": [
    "yönetici2 = Yönetici(\"Memet Dıra\",5000,\"Bilişim\",5)"
   ]
  },
  {
   "cell_type": "code",
   "execution_count": 13,
   "metadata": {},
   "outputs": [
    {
     "name": "stdout",
     "output_type": "stream",
     "text": [
      "Çalışan Sınıfın Bilgileri...\n",
      "\n",
      "\n",
      "İsim : Memet Dıra \n",
      "Maaş: 5000 \n",
      "Departman: Bilişim\n",
      "Sorumlu Olduğu Kişi Sayısı: 5\n"
     ]
    }
   ],
   "source": [
    "yönetici2.bilgiler()"
   ]
  },
  {
   "cell_type": "code",
   "execution_count": 14,
   "metadata": {},
   "outputs": [
    {
     "data": {
      "text/plain": [
       "5"
      ]
     },
     "execution_count": 14,
     "metadata": {},
     "output_type": "execute_result"
    }
   ],
   "source": [
    "yönetici2.kişi_sayısı"
   ]
  },
  {
   "cell_type": "code",
   "execution_count": 16,
   "metadata": {},
   "outputs": [],
   "source": [
    "\n",
    "\n",
    "# Super Anahtarı Miras Aldığımız Sınıftaki Methotları,Fonksiyonları Çağırmamızı Sağlayan Bir Anahtardır.\n",
    "\n"
   ]
  },
  {
   "cell_type": "code",
   "execution_count": 21,
   "metadata": {},
   "outputs": [],
   "source": [
    "class Çalışan():\n",
    "    def __init__(self,isim,maaş,departman):\n",
    "        print(\"Çalışan Sınıfın İnit Fonksiyonu\")\n",
    "        self.isim = isim\n",
    "        self.maaş = maaş\n",
    "        self.departman = departman\n",
    "        \n",
    "    def bilgiler(self):\n",
    "        \n",
    "        print(\"Çalışan Sınıfın Bilgileri...\")\n",
    "        print(\"\\n\")\n",
    "        \n",
    "        print(\"İsim : {} \\nMaaş: {} \\nDepartman: {}\\n\".format(self.isim,self.maaş,self.departman))\n",
    "        \n",
    "    def departman_degistir(self,yeni_departman):\n",
    "        print(\"Departman Değişiyor...\")\n",
    "        self.departman = yeni_departman"
   ]
  },
  {
   "cell_type": "code",
   "execution_count": 30,
   "metadata": {},
   "outputs": [],
   "source": [
    "import time\n",
    "class Yönetici(Çalışan):   # Bu Şekilde Yönetici Class'ı Çalışan Class'ından Methotları ve Özellikleri Almıştır.\n",
    "    def __init__(self,isim,maaş,departman,kişi_sayısı):\n",
    "        print(\"Yönetici Sınıfın İnit Fonksiyonu\")\n",
    "        \n",
    "        super().__init__(isim,maaş,departman)  #Tek Tek Yazmak Yerine Super Anahtarı Kullanırız.\n",
    "        \n",
    "                                            #super().Fonksiyon(Methot) İsmi(Parametreler)\n",
    "        self.kişi_sayısı = kişi_sayısı\n",
    "        \n",
    "    def bilgiler(self):\n",
    "        \n",
    "        print(\"Çalışan Sınıfın Bilgileri...\")\n",
    "        print(\"\\n\")\n",
    "        \n",
    "        print(\"İsim : {} \\nMaaş: {} \\nDepartman: {}\\nSorumlu Olduğu Kişi Sayısı: {}\".format(self.isim,self.maaş,self.departman,self.kişi_sayısı))\n",
    "        \n",
    "    def zam_yap(self,yeni_zam):\n",
    "        yeni_zam = int(input(\"Zam Miktarı:\"))\n",
    "        print(\"Zam Ekleniyor...\")\n",
    "        self.maaş += yeni_zam\n",
    "        time.sleep(1)\n",
    "        print(\"Zam Eklendi !\")\n",
    "        print(\"\\n\")\n",
    "        \n",
    "        print(\"Yeni Maaş:\",self.maaş,\"Tl\")"
   ]
  },
  {
   "cell_type": "code",
   "execution_count": 31,
   "metadata": {},
   "outputs": [
    {
     "name": "stdout",
     "output_type": "stream",
     "text": [
      "Yönetici Sınıfın İnit Fonksiyonu\n",
      "Çalışan Sınıfın İnit Fonksiyonu\n"
     ]
    }
   ],
   "source": [
    "manager = Yönetici(\"Selin Darı\",4521,\"Bilişim\",10)"
   ]
  },
  {
   "cell_type": "code",
   "execution_count": 32,
   "metadata": {},
   "outputs": [
    {
     "data": {
      "text/plain": [
       "10"
      ]
     },
     "execution_count": 32,
     "metadata": {},
     "output_type": "execute_result"
    }
   ],
   "source": [
    "manager.kişi_sayısı"
   ]
  },
  {
   "cell_type": "code",
   "execution_count": null,
   "metadata": {},
   "outputs": [],
   "source": []
  },
  {
   "cell_type": "code",
   "execution_count": null,
   "metadata": {},
   "outputs": [],
   "source": []
  }
 ],
 "metadata": {
  "kernelspec": {
   "display_name": "Python 3",
   "language": "python",
   "name": "python3"
  },
  "language_info": {
   "codemirror_mode": {
    "name": "ipython",
    "version": 3
   },
   "file_extension": ".py",
   "mimetype": "text/x-python",
   "name": "python",
   "nbconvert_exporter": "python",
   "pygments_lexer": "ipython3",
   "version": "3.7.4"
  }
 },
 "nbformat": 4,
 "nbformat_minor": 4
}
