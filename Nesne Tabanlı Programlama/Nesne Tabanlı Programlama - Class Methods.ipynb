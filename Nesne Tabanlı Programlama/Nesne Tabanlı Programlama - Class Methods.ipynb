{
 "cells": [
  {
   "cell_type": "markdown",
   "metadata": {},
   "source": [
    "# Nesne Tabanlı Programlama - Class Methods"
   ]
  },
  {
   "cell_type": "code",
   "execution_count": 11,
   "metadata": {},
   "outputs": [
    {
     "name": "stdout",
     "output_type": "stream",
     "text": [
      "0 tane aktif kullanıcı mevcut.\n",
      "<__main__.User object at 0x000001A4D8070EC8>\n",
      "<bound method User.full_name of <__main__.User object at 0x000001A4D76BE248>>\n",
      "3 tane aktif kullanıcı mevcut.\n",
      "3 tane aktif kullanıcı mevcut.\n"
     ]
    }
   ],
   "source": [
    "\n",
    "\n",
    "class User(): \n",
    "    active_users = 0                          #  Class seviyesinde özellik oluşturuldu. Ne kadar obje tanımlanırsa tanımlansın class atribute değişmez.\n",
    "    \n",
    "    \n",
    "    \n",
    "    @classmethod\n",
    "    def display_active_user(cls):           # Class seviyesinde bir method olduğundan dolayı instance methodundaki self gibi parametre olarak \"cls\" parametresi alır.\n",
    "        \n",
    "        return f\"{cls.active_users} tane aktif kullanıcı mevcut.\"  # ÖNEMLİ NOT: CLASS SEVİYESİNDE METHOD OLUŞTUTURKEN MUTLAKA \"@CLASSMETHOD\" DECORATORI OLUŞTURULMALI !!!\n",
    "    \n",
    "    \n",
    "    @classmethod\n",
    "    def from_string(cls,data_str):\n",
    "        \n",
    "        first,last,age = data_str.split(\",\")\n",
    "        \n",
    "        return cls(first,last,age)     # Objeyi tanımlamak için cls kullandık. Bunun yerine \"User\" da kullanılabilir.\n",
    "\n",
    "    \n",
    "    \n",
    "    def __init__(self, name, last, age):\n",
    "        \n",
    "        self.name = name\n",
    "        self.last = last\n",
    "        self.age = age\n",
    "        User.active_users +=1             # Class seviyesindeki özellik veya methoda ulaşabilmek için: Class Adı. attribute ot method\n",
    "        \n",
    "\n",
    "    def full_name(self):\n",
    "        return f\"{self.name} {self.last}\"\n",
    "\n",
    "    \n",
    "    def logout(self):\n",
    "        \n",
    "        User.active_users -=1\n",
    "        \n",
    "        return f\"{self.full_name()} uygulamadan çıkış yaptı.\"\n",
    "    \n",
    "    \n",
    "        \n",
    "print(User.display_active_user())         \n",
    "\n",
    "furkan = User(\"Furkan\", \"Şahin\",24)\n",
    "görkem = User(\"Görkem\", \"Say\",23)\n",
    "\n",
    "\n",
    "ali = User.from_string(\"Ali,Korkmaz,30\")     # Bu Şekilde de Obje Nesnesi Oluşturulabilir.\n",
    "print(ali)\n",
    "\n",
    "\n",
    "\n",
    "print(furkan.full_name)\n",
    "print(User.display_active_user())    \n",
    "print(furkan.display_active_user())                      # Aktif kullanıcı sayısına hem class üzerinden hemde obje üzerinden ulaşılabilir çünkü class seviyesinde bir methot vardır ve classın geneli için bu durum geçerlidir.           "
   ]
  },
  {
   "cell_type": "code",
   "execution_count": null,
   "metadata": {},
   "outputs": [],
   "source": []
  },
  {
   "cell_type": "code",
   "execution_count": null,
   "metadata": {},
   "outputs": [],
   "source": [
    "\n",
    " print(f\"\"\"              -------------------------------\n",
    "    \n",
    "                    Hoşgeldiniz {kullanıcı_adı}\n",
    "    \n",
    "              --------------------------------\n",
    "    \n",
    "    Hesabınızdaki Bakiyeyi Görüntülemek İçin: 1\n",
    "    \n",
    "    Hesabınızdan Para Çekmek İçin:2\n",
    "    \n",
    "    Hesabınıza Para Yatırmak İçin:3\"\"\")\n",
    "\n",
    "    işlem = input(\"\\n\"+\"Lütfen Yapmak İstediğiniz İşlemi Seçiniz:\")\n",
    "\n"
   ]
  },
  {
   "cell_type": "code",
   "execution_count": 1,
   "metadata": {},
   "outputs": [
    {
     "data": {
      "text/plain": [
       "['furkN', 'MERT']"
      ]
     },
     "execution_count": 1,
     "metadata": {},
     "output_type": "execute_result"
    }
   ],
   "source": [
    "s = \"furkN MERT\"\n",
    "\n",
    "s.split(\" \")"
   ]
  },
  {
   "cell_type": "code",
   "execution_count": null,
   "metadata": {},
   "outputs": [],
   "source": []
  }
 ],
 "metadata": {
  "kernelspec": {
   "display_name": "Python 3",
   "language": "python",
   "name": "python3"
  },
  "language_info": {
   "codemirror_mode": {
    "name": "ipython",
    "version": 3
   },
   "file_extension": ".py",
   "mimetype": "text/x-python",
   "name": "python",
   "nbconvert_exporter": "python",
   "pygments_lexer": "ipython3",
   "version": "3.7.4"
  }
 },
 "nbformat": 4,
 "nbformat_minor": 4
}
