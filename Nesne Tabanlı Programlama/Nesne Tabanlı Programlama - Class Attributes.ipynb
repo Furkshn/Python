{
 "cells": [
  {
   "cell_type": "markdown",
   "metadata": {},
   "source": [
    "# Nesne Tabanlı Programlama - Class Attributes"
   ]
  },
  {
   "cell_type": "code",
   "execution_count": 1,
   "metadata": {},
   "outputs": [
    {
     "name": "stdout",
     "output_type": "stream",
     "text": [
      "Furkan\n",
      "2\n"
     ]
    }
   ],
   "source": [
    "\n",
    "\n",
    "class User(): \n",
    "    active_users = 0                  # Class seviyesinde özellik oluşturuldu. Ne kadar obje tanımlanırsa tanımlansın class atribute değişmez.\n",
    "\n",
    "\n",
    "    def __init__(self, name, last, age):\n",
    "        \n",
    "        self.name = name\n",
    "        self.last = last\n",
    "        self.age = age\n",
    "        User.active_users +=1             # Class seviyesindeki özellik veya methoda ulaşabilmek için: Class Adı. attribute veya methot\n",
    "\n",
    "    def full_name(self):\n",
    "        return f\"{self.name} {self.last}\"\n",
    "\n",
    "    def logout(self):\n",
    "        \n",
    "        User.active_users -=1\n",
    "        \n",
    "\n",
    "furkan = User(\"Furkan\", \"Şahin\",24)\n",
    "görkem = User(\"Görkem\", \"Say\",23)\n",
    "\n",
    "print(furkan.name)\n",
    "print(furkan.active_users)           # Sınıfa obje tanımlandığı için hem instance seviyesindeki hem de class seviyesindeki özellik veya methotlara erişebilir.\n",
    "\n"
   ]
  },
  {
   "cell_type": "code",
   "execution_count": null,
   "metadata": {},
   "outputs": [],
   "source": []
  }
 ],
 "metadata": {
  "kernelspec": {
   "display_name": "Python 3",
   "language": "python",
   "name": "python3"
  },
  "language_info": {
   "codemirror_mode": {
    "name": "ipython",
    "version": 3
   },
   "file_extension": ".py",
   "mimetype": "text/x-python",
   "name": "python",
   "nbconvert_exporter": "python",
   "pygments_lexer": "ipython3",
   "version": "3.7.4"
  }
 },
 "nbformat": 4,
 "nbformat_minor": 4
}
