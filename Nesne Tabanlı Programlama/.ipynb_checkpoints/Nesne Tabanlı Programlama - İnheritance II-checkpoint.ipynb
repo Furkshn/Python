{
 "cells": [
  {
   "cell_type": "markdown",
   "metadata": {},
   "source": [
    "# Nesne Tabanlı Programlama - İnheritance II"
   ]
  },
  {
   "cell_type": "markdown",
   "metadata": {},
   "source": [
    "### Inheritance türkçe anlam olarak \"Kalıtım\" diye geçer."
   ]
  },
  {
   "cell_type": "markdown",
   "metadata": {},
   "source": [
    "### Ortak methotların ve özelliklerin olduğu class'a: ---------------- Base Class ya da Parent Class denir.\n",
    "\n",
    "### Class'ın kendine has özelliklere methotlara sahip olması durumunda ise bu class'a: -------------- Child Class denir."
   ]
  },
  {
   "cell_type": "code",
   "execution_count": 4,
   "metadata": {},
   "outputs": [
    {
     "name": "stdout",
     "output_type": "stream",
     "text": [
      "Person Nesnesi Üretildi\n",
      "Person Nesnesi Üretildi\n"
     ]
    }
   ],
   "source": [
    "class Person():\n",
    "    \n",
    "    def __init__(self):\n",
    "        \n",
    "        print(\"Person Nesnesi Üretildi\")\n",
    "        \n",
    "        \n",
    "class Student(Person):      # Person Class'ı Student Class'ının Parent Classı oldu.\n",
    "    pass\n",
    "\n",
    "\n",
    "p1 = Person()              # Student sınıfı Person sınıfındaki tüm özellik ve methotları kalıtımsal olarak almış oldu. O yüzden 2 tane print() fonksiyonu çalıştı.\n",
    "s1 = Student()"
   ]
  },
  {
   "cell_type": "code",
   "execution_count": 5,
   "metadata": {},
   "outputs": [
    {
     "name": "stdout",
     "output_type": "stream",
     "text": [
      "Person Nesnesi Üretildi\n",
      "Person Nesnesi Üretildi\n",
      "Person Nesnesi Üretildi\n"
     ]
    }
   ],
   "source": [
    "class Person():\n",
    "    \n",
    "    def __init__(self):\n",
    "        \n",
    "        print(\"Person Nesnesi Üretildi\")\n",
    "        \n",
    "        \n",
    "class Student(Person):      \n",
    "    \n",
    "    pass\n",
    "\n",
    "\n",
    "class Teacher(Person):\n",
    "    \n",
    "    pass\n",
    "\n",
    "p1 = Person()             \n",
    "s1 = Student()\n",
    "t1 = Teacher()"
   ]
  },
  {
   "cell_type": "markdown",
   "metadata": {},
   "source": [
    "## Kalıtımın Uygulanması"
   ]
  },
  {
   "cell_type": "code",
   "execution_count": 9,
   "metadata": {},
   "outputs": [
    {
     "name": "stdout",
     "output_type": "stream",
     "text": [
      "Person Nesnesi Üretildi\n",
      "Furkan 20\n",
      "Person Nesnesi Üretildi\n",
      "Havva 30\n",
      "Person Nesnesi Üretildi\n",
      "Barış 23\n"
     ]
    }
   ],
   "source": [
    "class Person():\n",
    "    \n",
    "    def __init__(self,name,yaş):\n",
    "        \n",
    "        self.name = name\n",
    "        self.yaş = yaş\n",
    "        print(\"Person Nesnesi Üretildi\")\n",
    "        \n",
    "        \n",
    "class Student(Person):      \n",
    "    \n",
    "    pass\n",
    "\n",
    "\n",
    "class Teacher(Person):\n",
    "    \n",
    "    pass\n",
    "\n",
    "\n",
    "p1 = Person(\"Furkan\",20)\n",
    "print(p1.name, p1.yaş)\n",
    "\n",
    "s1 = Student(\"Havva\",30)\n",
    "print(s1.name, s1.yaş)\n",
    "\n",
    "t1 = Teacher(\"Barış\",23)\n",
    "print(t1.name, t1.yaş)\n"
   ]
  },
  {
   "cell_type": "code",
   "execution_count": 11,
   "metadata": {},
   "outputs": [
    {
     "name": "stdout",
     "output_type": "stream",
     "text": [
      "Person Nesnesi Üretildi\n",
      "Furkan 20\n",
      "Person Nesnesi Üretildi\n",
      "Havva 30\n",
      "Person Nesnesi Üretildi\n",
      "Barış 23\n"
     ]
    }
   ],
   "source": [
    "class Person():\n",
    "    \n",
    "    def __init__(self,name,yaş):\n",
    "        \n",
    "        self.name = name\n",
    "        self.yaş = yaş\n",
    "        print(\"Person Nesnesi Üretildi\")\n",
    "        \n",
    "    def intro(self):\n",
    "        print(self.name,self.yaş)\n",
    "        \n",
    "        \n",
    "class Student(Person):      \n",
    "    \n",
    "    pass\n",
    "\n",
    "\n",
    "class Teacher(Person):\n",
    "    \n",
    "    pass\n",
    "\n",
    "\n",
    "p1 = Person(\"Furkan\",20)   # Child Class'lar sadece Parent Class'ın özelliklerini ve methotlarını alırlar.\n",
    "p1.intro()\n",
    "\n",
    "s1 = Student(\"Havva\",30)\n",
    "s1.intro()\n",
    "\n",
    "t1 = Teacher(\"Barış\",23)\n",
    "t1.intro()\n"
   ]
  },
  {
   "cell_type": "markdown",
   "metadata": {},
   "source": [
    "## Child Sınıfların Genişletilmesi"
   ]
  },
  {
   "cell_type": "code",
   "execution_count": 1,
   "metadata": {},
   "outputs": [
    {
     "name": "stdout",
     "output_type": "stream",
     "text": [
      "Person Nesnesi Üretildi\n",
      "Furkan 20\n"
     ]
    },
    {
     "ename": "TypeError",
     "evalue": "__init__() takes 1 positional argument but 3 were given",
     "output_type": "error",
     "traceback": [
      "\u001b[1;31m---------------------------------------------------------------------------\u001b[0m",
      "\u001b[1;31mTypeError\u001b[0m                                 Traceback (most recent call last)",
      "\u001b[1;32m<ipython-input-1-cfd41036e043>\u001b[0m in \u001b[0;36m<module>\u001b[1;34m\u001b[0m\n\u001b[0;32m     26\u001b[0m \u001b[0mp1\u001b[0m\u001b[1;33m.\u001b[0m\u001b[0mintro\u001b[0m\u001b[1;33m(\u001b[0m\u001b[1;33m)\u001b[0m\u001b[1;33m\u001b[0m\u001b[1;33m\u001b[0m\u001b[0m\n\u001b[0;32m     27\u001b[0m \u001b[1;33m\u001b[0m\u001b[0m\n\u001b[1;32m---> 28\u001b[1;33m \u001b[0ms1\u001b[0m \u001b[1;33m=\u001b[0m \u001b[0mStudent\u001b[0m\u001b[1;33m(\u001b[0m\u001b[1;34m\"Havva\"\u001b[0m\u001b[1;33m,\u001b[0m\u001b[1;36m30\u001b[0m\u001b[1;33m)\u001b[0m\u001b[1;33m\u001b[0m\u001b[1;33m\u001b[0m\u001b[0m\n\u001b[0m\u001b[0;32m     29\u001b[0m \u001b[0ms1\u001b[0m\u001b[1;33m.\u001b[0m\u001b[0mintro\u001b[0m\u001b[1;33m(\u001b[0m\u001b[1;33m)\u001b[0m\u001b[1;33m\u001b[0m\u001b[1;33m\u001b[0m\u001b[0m\n\u001b[0;32m     30\u001b[0m \u001b[1;33m\u001b[0m\u001b[0m\n",
      "\u001b[1;31mTypeError\u001b[0m: __init__() takes 1 positional argument but 3 were given"
     ]
    }
   ],
   "source": [
    "class Person():\n",
    "    \n",
    "    def __init__(self,name,yaş):\n",
    "        \n",
    "        self.name = name\n",
    "        self.yaş = yaş\n",
    "        print(\"Person Nesnesi Üretildi\")\n",
    "        \n",
    "    def intro(self):\n",
    "        print(self.name,self.yaş)\n",
    "        \n",
    "        \n",
    "class Student(Person):      \n",
    "    \n",
    "    def __init__(self):\n",
    "        \n",
    "        print(\"Student Nesnesi Oluşutuldu.\")\n",
    "\n",
    "\n",
    "class Teacher(Person):\n",
    "    \n",
    "    pass\n",
    "\n",
    "\n",
    "p1 = Person(\"Furkan\",20)   # Child Class'lar sadece Parent Class'ın özelliklerini ve methotlarını alırlar.\n",
    "p1.intro()\n",
    "\n",
    "s1 = Student(\"Havva\",30)\n",
    "s1.intro()\n",
    "\n",
    "t1 = Teacher(\"Barış\",23)\n",
    "t1.intro()\n"
   ]
  },
  {
   "cell_type": "code",
   "execution_count": 2,
   "metadata": {},
   "outputs": [],
   "source": [
    "\n",
    "\n",
    "# Yukarıdaki hatanın nedeni Student Class'ı kendi init fonksiyonuna sahip olduğu için \n",
    "#                                                                         artık Parent Class'ındaki init fonksiyonunu ezmeye başladı.\n",
    "\n",
    "# Ancak Child Class'ı Person Class'ından özellik ve methot aldığı için init fonsiyonunu tanımlarken Person init fonksiyonundaki parametreleri tanımlamalıdır.\n",
    "\n"
   ]
  },
  {
   "cell_type": "code",
   "execution_count": 4,
   "metadata": {},
   "outputs": [
    {
     "name": "stdout",
     "output_type": "stream",
     "text": [
      "Person Nesnesi Üretildi\n",
      "Furkan 20\n",
      "Person Nesnesi Üretildi\n",
      "Student Nesnesi Oluşutuldu.\n",
      "Havva 30\n",
      "Person Nesnesi Üretildi\n",
      "Barış 23\n"
     ]
    }
   ],
   "source": [
    "class Person():\n",
    "    \n",
    "    def __init__(self,name,yaş):\n",
    "        \n",
    "        self.name = name\n",
    "        self.yaş = yaş\n",
    "        print(\"Person Nesnesi Üretildi\")\n",
    "        \n",
    "    def intro(self):\n",
    "        print(self.name,self.yaş)\n",
    "        \n",
    "        \n",
    "class Student(Person):      \n",
    "    \n",
    "    def __init__(self,name,yaş):\n",
    "        \n",
    "        Person.__init__(self,name,yaş)\n",
    "        print(\"Student Nesnesi Oluşutuldu.\")\n",
    "\n",
    "\n",
    "class Teacher(Person):\n",
    "    \n",
    "    pass\n",
    "\n",
    "\n",
    "p1 = Person(\"Furkan\",20)   # Child Class'lar sadece Parent Class'ın özelliklerini ve methotlarını alırlar.\n",
    "p1.intro()\n",
    "\n",
    "s1 = Student(\"Havva\",30)\n",
    "s1.intro()\n",
    "\n",
    "t1 = Teacher(\"Barış\",23)\n",
    "t1.intro()"
   ]
  },
  {
   "cell_type": "code",
   "execution_count": null,
   "metadata": {},
   "outputs": [],
   "source": []
  },
  {
   "cell_type": "code",
   "execution_count": 9,
   "metadata": {},
   "outputs": [
    {
     "name": "stdout",
     "output_type": "stream",
     "text": [
      "Person Nesnesi Üretildi\n",
      "Furkan 20\n",
      "Person Nesnesi Üretildi\n",
      "Student Nesnesi Oluşutuldu.\n",
      "Havva 30\n",
      "Person Nesnesi Üretildi\n",
      "Teacher Nesnesi Oluşutuldu.\n",
      "Barış 23\n"
     ]
    }
   ],
   "source": [
    "class Person():\n",
    "    \n",
    "    def __init__(self,name,yaş):\n",
    "        \n",
    "        self.name = name\n",
    "        self.yaş = yaş\n",
    "        print(\"Person Nesnesi Üretildi\")\n",
    "        \n",
    "    def intro(self):\n",
    "        print(self.name,self.yaş)\n",
    "        \n",
    "        \n",
    "class Student(Person):      \n",
    "    \n",
    "    def __init__(self,name,yaş):\n",
    "        \n",
    "        Person.__init__(self,name,yaş)           # Parent Class'ından aldığımız özelliklerin çalışabilmesi için \n",
    "        print(\"Student Nesnesi Oluşutuldu.\")                    # Child Class içerisinde çalıştırmamız gerekir.\n",
    "\n",
    "\n",
    "class Teacher(Person):\n",
    "    \n",
    "    def __init__(self,name,yaş):\n",
    "        \n",
    "        Person.__init__(self,name,yaş)\n",
    "        print(\"Teacher Nesnesi Oluşutuldu.\")\n",
    "    \n",
    "    \n",
    "\n",
    "\n",
    "p1 = Person(\"Furkan\",20)   # Child Class'lar sadece Parent Class'ın özelliklerini ve methotlarını alırlar.\n",
    "p1.intro()\n",
    "\n",
    "s1 = Student(\"Havva\",30)\n",
    "s1.intro()\n",
    "\n",
    "t1 = Teacher(\"Barış\",23)\n",
    "t1.intro()"
   ]
  },
  {
   "cell_type": "code",
   "execution_count": 11,
   "metadata": {},
   "outputs": [
    {
     "name": "stdout",
     "output_type": "stream",
     "text": [
      "Person Nesnesi Üretildi\n",
      "Furkan 20\n",
      "Person Nesnesi Üretildi\n",
      "Student Nesnesi Oluşutuldu.\n",
      "Havva 30\n",
      "321\n",
      "Person Nesnesi Üretildi\n",
      "Teacher Nesnesi Oluşutuldu.\n",
      "İngilizce\n",
      "Barış 23\n"
     ]
    }
   ],
   "source": [
    "class Person():\n",
    "    \n",
    "    def __init__(self,name,yaş):\n",
    "        \n",
    "        self.name = name\n",
    "        self.yaş = yaş\n",
    "        print(\"Person Nesnesi Üretildi\")\n",
    "        \n",
    "    def intro(self):\n",
    "        print(self.name,self.yaş)\n",
    "        \n",
    "        \n",
    "class Student(Person):      \n",
    "    \n",
    "    def __init__(self,name,yaş,number):\n",
    "        \n",
    "        Person.__init__(self,name,yaş)\n",
    "        \n",
    "        self.number = number\n",
    "        print(\"Student Nesnesi Oluşutuldu.\")\n",
    "\n",
    "\n",
    "class Teacher(Person):\n",
    "    \n",
    "    def __init__(self,name,yaş,branch):\n",
    "        \n",
    "        Person.__init__(self,name,yaş)\n",
    "        \n",
    "        self.branch = branch\n",
    "        print(\"Teacher Nesnesi Oluşutuldu.\")\n",
    "    \n",
    "    \n",
    "\n",
    "\n",
    "p1 = Person(\"Furkan\",20)   # Child Class'lar sadece Parent Class'ın özelliklerini ve methotlarını alırlar.\n",
    "p1.intro()\n",
    "\n",
    "s1 = Student(\"Havva\",30,321)\n",
    "s1.intro()\n",
    "print(s1.number)           # Class Özelliğine Erişildi.\n",
    "\n",
    "t1 = Teacher(\"Barış\",23,\"İngilizce\")\n",
    "print(t1.branch)           # Class Özelliğine Erişildi.\n",
    "t1.intro()"
   ]
  },
  {
   "cell_type": "markdown",
   "metadata": {},
   "source": [
    "## Sınıf İsmi ve Self Yerine Başka Bir Methot: "
   ]
  },
  {
   "cell_type": "markdown",
   "metadata": {},
   "source": [
    "### Class İsmi ve Self Yerine \"Super()\" methodu çalıştırılabilir. Super methodu selfi otomatik çağırır."
   ]
  },
  {
   "cell_type": "code",
   "execution_count": 21,
   "metadata": {},
   "outputs": [
    {
     "name": "stdout",
     "output_type": "stream",
     "text": [
      "Person Nesnesi Üretildi\n",
      "Furkan 20\n",
      "Person Nesnesi Üretildi\n",
      "Student Nesnesi Oluşutuldu.\n",
      "Havva 30\n",
      "Person Nesnesi Üretildi\n",
      "Teacher Nesnesi Oluşutuldu.\n",
      "Barış 23\n",
      "\n",
      "True\n",
      "True\n",
      "False\n"
     ]
    }
   ],
   "source": [
    "class Person():\n",
    "    \n",
    "    def __init__(self,name,yaş):\n",
    "        \n",
    "        self.name = name\n",
    "        self.yaş = yaş\n",
    "        print(\"Person Nesnesi Üretildi\")\n",
    "        \n",
    "    def intro(self):\n",
    "        print(self.name,self.yaş)\n",
    "        \n",
    "        \n",
    "class Student(Person):      \n",
    "    \n",
    "    def __init__(self,name,yaş,number):\n",
    "        \n",
    "        super().__init__(name,yaş)                  # Class İsmi ve Self yerine Super() methodu kullanıldı.\n",
    "        \n",
    "        self.number = number\n",
    "        print(\"Student Nesnesi Oluşutuldu.\")\n",
    "        \n",
    "        \n",
    "        def intro(self):\n",
    "            print(self.name,self.yaş,self.number)\n",
    "        \n",
    "        \n",
    "    def study(self):\n",
    "        \n",
    "         return f\"{self.number} isimli öğrenci ders çalışıyor.\"\n",
    "\n",
    "\n",
    "class Teacher(Person):\n",
    "    \n",
    "    def __init__(self,name,yaş,branch):\n",
    "        \n",
    "        super().__init__(name,yaş)        # Class İsmi ve Self yerine Super() methodu kullanıldı.\n",
    "        \n",
    "        self.branch = branch\n",
    "        print(\"Teacher Nesnesi Oluşutuldu.\")\n",
    "        \n",
    "    def teach(self):\n",
    "            \n",
    "        return f\"{self.name} isimli öğretmen {self.branch} eğitimini veriyor.\"\n",
    "    \n",
    "    \n",
    "\n",
    "\n",
    "p1 = Person(\"Furkan\",20)   \n",
    "p1.intro()                          # Parent Class Methodu\n",
    "\n",
    "s1 = Student(\"Havva\",30,321)\n",
    "s1.intro()                           # Child Sınıfının Methodu\n",
    "s1.study()\n",
    "\n",
    "t1 = Teacher(\"Barış\",23,\"İngilizce\")\n",
    "t1.intro()\n",
    "t1.teach()\n",
    "\n",
    "print(\"\")\n",
    "\n",
    "\n",
    "print(isinstance(s1, Person))         # S1 objesi Person Class'ndan mı türetildi sorusunun cevabıdır.\n",
    "print(isinstance(t1, Person))\n",
    "print(isinstance(s1, Teacher)) "
   ]
  },
  {
   "cell_type": "markdown",
   "metadata": {},
   "source": [
    "### Önemli Not:           \n",
    "\n",
    "###   Child Class içerisinde Parent Class'ındaki methot ile aynı isimde methot varsa Child Class içerisindeki methot Parent Class'ı içerisindeki methotu ezer ve kendi methodunu çalıştırır.\n"
   ]
  },
  {
   "cell_type": "code",
   "execution_count": null,
   "metadata": {},
   "outputs": [],
   "source": []
  },
  {
   "cell_type": "code",
   "execution_count": null,
   "metadata": {},
   "outputs": [],
   "source": []
  }
 ],
 "metadata": {
  "kernelspec": {
   "display_name": "Python 3",
   "language": "python",
   "name": "python3"
  },
  "language_info": {
   "codemirror_mode": {
    "name": "ipython",
    "version": 3
   },
   "file_extension": ".py",
   "mimetype": "text/x-python",
   "name": "python",
   "nbconvert_exporter": "python",
   "pygments_lexer": "ipython3",
   "version": "3.7.4"
  }
 },
 "nbformat": 4,
 "nbformat_minor": 4
}
