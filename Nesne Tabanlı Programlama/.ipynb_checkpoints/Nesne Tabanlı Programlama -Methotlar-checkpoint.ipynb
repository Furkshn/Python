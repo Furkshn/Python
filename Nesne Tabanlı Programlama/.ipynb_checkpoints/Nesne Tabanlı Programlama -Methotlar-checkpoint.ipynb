{
 "cells": [
  {
   "cell_type": "code",
   "execution_count": 51,
   "metadata": {},
   "outputs": [],
   "source": [
    "import time\n",
    "class Yazılımcı():\n",
    "    \n",
    "    def __init__(self,isim,soyisim,numara,maaş,diller):\n",
    "        self.isim = isim\n",
    "        self.soyisim = soyisim\n",
    "        self.numara = numara\n",
    "        self.maaş = maaş\n",
    "        self.diller = diller\n",
    "        \n",
    "    def bilgiler(self):             #Class İçerisinde Fonksiyon (Methot) Tanımlarken Mutlaka \"Self\" Parametresi Olmalıdır.\n",
    "        print(\"\"\"\n",
    "        Yazılımcı Objesinin Özellikleri \n",
    "        \n",
    "        İsim : {} \n",
    "        \n",
    "        Soyisim : {} \n",
    "        \n",
    "        Numara : {} \n",
    "        \n",
    "        Maaş : {}\n",
    "        \n",
    "        Bildiği Diller : {}\n",
    "        \"\"\".format(self.isim,self.soyisim,self.numara,self.maaş,self.diller))\n",
    "        \n",
    "    def zam(self,zam_miktarı):\n",
    "        print(\"Zam Yapılıyor...\")\n",
    "        time.sleep(1)\n",
    "        \n",
    "        print(\"Zam İşlemini Kontrol Ediniz...\")\n",
    "        \n",
    "        self.maaş += zam_miktarı\n",
    "        \n",
    "    def dilekle(self,yenidil):\n",
    "        print(\"Yeni Dil Yeteneği Ekleniyor...\")\n",
    "        time.sleep(1)\n",
    "        \n",
    "        print(\"Yeni Dil Yeteneği Eklendi :)\")\n",
    "        self.diller.append(yenidil)\n",
    "        \n",
    "        \n",
    "        "
   ]
  },
  {
   "cell_type": "code",
   "execution_count": 52,
   "metadata": {},
   "outputs": [],
   "source": [
    "yazılımcı1 = Yazılımcı(\"Furkan Mert\",\"Şahin\",12453,5000,[\"Python\",\"JavaScript\",\"Java\"])"
   ]
  },
  {
   "cell_type": "code",
   "execution_count": 53,
   "metadata": {},
   "outputs": [],
   "source": [
    "yazılımcı2 = Yazılımcı(\"Görkem\",\"Say\",15653,6000,[\"Python\",\"Java\",\"C#\"])"
   ]
  },
  {
   "cell_type": "code",
   "execution_count": 54,
   "metadata": {},
   "outputs": [
    {
     "data": {
      "text/plain": [
       "['Python', 'JavaScript', 'Java']"
      ]
     },
     "execution_count": 54,
     "metadata": {},
     "output_type": "execute_result"
    }
   ],
   "source": [
    "yazılımcı1.diller"
   ]
  },
  {
   "cell_type": "code",
   "execution_count": 55,
   "metadata": {},
   "outputs": [
    {
     "name": "stdout",
     "output_type": "stream",
     "text": [
      "\n",
      "        Yazılımcı Objesinin Özellikleri \n",
      "        \n",
      "        İsim : Furkan Mert \n",
      "        \n",
      "        Soyisim : Şahin \n",
      "        \n",
      "        Numara : 12453 \n",
      "        \n",
      "        Maaş : 5000\n",
      "        \n",
      "        Bildiği Diller : ['Python', 'JavaScript', 'Java']\n",
      "        \n"
     ]
    }
   ],
   "source": [
    "yazılımcı1.bilgiler()"
   ]
  },
  {
   "cell_type": "code",
   "execution_count": 56,
   "metadata": {},
   "outputs": [
    {
     "name": "stdout",
     "output_type": "stream",
     "text": [
      "\n",
      "        Yazılımcı Objesinin Özellikleri \n",
      "        \n",
      "        İsim : Görkem \n",
      "        \n",
      "        Soyisim : Say \n",
      "        \n",
      "        Numara : 15653 \n",
      "        \n",
      "        Maaş : 6000\n",
      "        \n",
      "        Bildiği Diller : ['Python', 'Java', 'C#']\n",
      "        \n"
     ]
    }
   ],
   "source": [
    "yazılımcı2.bilgiler()"
   ]
  },
  {
   "cell_type": "code",
   "execution_count": 57,
   "metadata": {},
   "outputs": [
    {
     "name": "stdout",
     "output_type": "stream",
     "text": [
      "Zam Yapılıyor...\n",
      "Zam İşlemini Kontrol Ediniz...\n"
     ]
    }
   ],
   "source": [
    "yazılımcı1.zam(2500)\n"
   ]
  },
  {
   "cell_type": "code",
   "execution_count": 58,
   "metadata": {},
   "outputs": [
    {
     "data": {
      "text/plain": [
       "7500"
      ]
     },
     "execution_count": 58,
     "metadata": {},
     "output_type": "execute_result"
    }
   ],
   "source": [
    "yazılımcı1.maaş"
   ]
  },
  {
   "cell_type": "code",
   "execution_count": 59,
   "metadata": {},
   "outputs": [
    {
     "name": "stdout",
     "output_type": "stream",
     "text": [
      "Yeni Dil Yeteneği Ekleniyor...\n",
      "Yeni Dil Yeteneği Eklendi :)\n"
     ]
    }
   ],
   "source": [
    "yazılımcı2.dilekle(\"JavaScript\")"
   ]
  },
  {
   "cell_type": "code",
   "execution_count": 60,
   "metadata": {},
   "outputs": [
    {
     "data": {
      "text/plain": [
       "['Python', 'Java', 'C#', 'JavaScript']"
      ]
     },
     "execution_count": 60,
     "metadata": {},
     "output_type": "execute_result"
    }
   ],
   "source": [
    "yazılımcı2.diller"
   ]
  },
  {
   "cell_type": "code",
   "execution_count": 62,
   "metadata": {},
   "outputs": [
    {
     "name": "stdout",
     "output_type": "stream",
     "text": [
      "\n",
      "        Yazılımcı Objesinin Özellikleri \n",
      "        \n",
      "        İsim : Furkan Mert \n",
      "        \n",
      "        Soyisim : Şahin \n",
      "        \n",
      "        Numara : 12453 \n",
      "        \n",
      "        Maaş : 7500\n",
      "        \n",
      "        Bildiği Diller : ['Python', 'JavaScript', 'Java']\n",
      "        \n"
     ]
    }
   ],
   "source": [
    "yazılımcı1.bilgiler()"
   ]
  },
  {
   "cell_type": "code",
   "execution_count": null,
   "metadata": {},
   "outputs": [],
   "source": []
  }
 ],
 "metadata": {
  "kernelspec": {
   "display_name": "Python 3",
   "language": "python",
   "name": "python3"
  },
  "language_info": {
   "codemirror_mode": {
    "name": "ipython",
    "version": 3
   },
   "file_extension": ".py",
   "mimetype": "text/x-python",
   "name": "python",
   "nbconvert_exporter": "python",
   "pygments_lexer": "ipython3",
   "version": "3.7.4"
  }
 },
 "nbformat": 4,
 "nbformat_minor": 2
}
