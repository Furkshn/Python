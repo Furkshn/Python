{
 "cells": [
  {
   "cell_type": "markdown",
   "metadata": {},
   "source": [
    "# Nesne Tabanlı Programlama - Properties"
   ]
  },
  {
   "cell_type": "markdown",
   "metadata": {},
   "source": [
    "## Python programlama dilinde private gibi özelliği atayabileyeceğimiz herhangi bir özellik bulunmamaktadır. Bunu mantık ile ilf,else koşulları ile yapabiliriz."
   ]
  },
  {
   "cell_type": "code",
   "execution_count": 4,
   "metadata": {},
   "outputs": [
    {
     "name": "stdout",
     "output_type": "stream",
     "text": [
      "9000\n"
     ]
    },
    {
     "ename": "ValueError",
     "evalue": "Ürün Fiyatı İçin Negatif Değer Yapılmaz.",
     "output_type": "error",
     "traceback": [
      "\u001b[1;31m---------------------------------------------------------------------------\u001b[0m",
      "\u001b[1;31mValueError\u001b[0m                                Traceback (most recent call last)",
      "\u001b[1;32m<ipython-input-4-4e58a667049f>\u001b[0m in \u001b[0;36m<module>\u001b[1;34m\u001b[0m\n\u001b[0;32m     25\u001b[0m \u001b[1;33m\u001b[0m\u001b[0m\n\u001b[0;32m     26\u001b[0m \u001b[0mprint\u001b[0m\u001b[1;33m(\u001b[0m\u001b[0mp\u001b[0m\u001b[1;33m.\u001b[0m\u001b[0mget_price\u001b[0m\u001b[1;33m(\u001b[0m\u001b[1;33m)\u001b[0m\u001b[1;33m)\u001b[0m\u001b[1;33m\u001b[0m\u001b[1;33m\u001b[0m\u001b[0m\n\u001b[1;32m---> 27\u001b[1;33m \u001b[0mprint\u001b[0m\u001b[1;33m(\u001b[0m\u001b[0mp\u001b[0m\u001b[1;33m.\u001b[0m\u001b[0mset_price\u001b[0m\u001b[1;33m(\u001b[0m\u001b[1;33m-\u001b[0m\u001b[1;36m1000\u001b[0m\u001b[1;33m)\u001b[0m\u001b[1;33m)\u001b[0m\u001b[1;33m\u001b[0m\u001b[1;33m\u001b[0m\u001b[0m\n\u001b[0m\u001b[0;32m     28\u001b[0m \u001b[0mprint\u001b[0m\u001b[1;33m(\u001b[0m\u001b[0mp\u001b[0m\u001b[1;33m.\u001b[0m\u001b[0mget_price\u001b[0m\u001b[1;33m(\u001b[0m\u001b[1;33m)\u001b[0m\u001b[1;33m)\u001b[0m\u001b[1;33m\u001b[0m\u001b[1;33m\u001b[0m\u001b[0m\n",
      "\u001b[1;32m<ipython-input-4-4e58a667049f>\u001b[0m in \u001b[0;36mset_price\u001b[1;34m(self, value)\u001b[0m\n\u001b[0;32m     13\u001b[0m             \u001b[0mself\u001b[0m\u001b[1;33m.\u001b[0m\u001b[0m_price\u001b[0m \u001b[1;33m=\u001b[0m \u001b[0mvalue\u001b[0m\u001b[1;33m\u001b[0m\u001b[1;33m\u001b[0m\u001b[0m\n\u001b[0;32m     14\u001b[0m         \u001b[1;32melse\u001b[0m\u001b[1;33m:\u001b[0m\u001b[1;33m\u001b[0m\u001b[1;33m\u001b[0m\u001b[0m\n\u001b[1;32m---> 15\u001b[1;33m             \u001b[1;32mraise\u001b[0m \u001b[0mValueError\u001b[0m\u001b[1;33m(\u001b[0m\u001b[1;34m\"Ürün Fiyatı İçin Negatif Değer Yapılmaz.\"\u001b[0m\u001b[1;33m)\u001b[0m\u001b[1;33m\u001b[0m\u001b[1;33m\u001b[0m\u001b[0m\n\u001b[0m\u001b[0;32m     16\u001b[0m \u001b[1;33m\u001b[0m\u001b[0m\n\u001b[0;32m     17\u001b[0m \u001b[1;33m\u001b[0m\u001b[0m\n",
      "\u001b[1;31mValueError\u001b[0m: Ürün Fiyatı İçin Negatif Değer Yapılmaz."
     ]
    }
   ],
   "source": [
    "class Product():\n",
    "    \n",
    "    def __init__(self,name,price):\n",
    "        self.name = name\n",
    "        if price >= 0:\n",
    "            self._price = price          # Alt çizginin anlamı özelliğin sınıf dışından ulaşılmaması gerektiğini ifade eder. Yani class'a özel bir özellik.\n",
    "        else:\n",
    "            raise ValueError(\"Ürün Fiyatı İçin Negatif Değer Yapılmaz.\")\n",
    "        \n",
    "    def set_price(self,value):\n",
    "        \n",
    "        if value >= 0:\n",
    "            self._price = value         \n",
    "        else:\n",
    "            raise ValueError(\"Ürün Fiyatı İçin Negatif Değer Yapılmaz.\")\n",
    "        \n",
    "        \n",
    "    def get_price(self):\n",
    "        \n",
    "        return self._price\n",
    "    \n",
    "    \n",
    "\n",
    "p = Product(\"İphone 12\",9000)\n",
    "\n",
    "print(p.get_price())\n",
    "print(p.set_price(-1000))\n",
    "print(p.get_price())\n"
   ]
  },
  {
   "cell_type": "markdown",
   "metadata": {},
   "source": [
    "## Property class içerisindeki bir methodun bir özellik gibi çağırılmasını sağlar."
   ]
  },
  {
   "cell_type": "code",
   "execution_count": 9,
   "metadata": {},
   "outputs": [
    {
     "name": "stdout",
     "output_type": "stream",
     "text": [
      "9000\n"
     ]
    },
    {
     "ename": "ValueError",
     "evalue": "Ürün Fiyatı İçin Negatif Değer Yapılmaz.",
     "output_type": "error",
     "traceback": [
      "\u001b[1;31m---------------------------------------------------------------------------\u001b[0m",
      "\u001b[1;31mValueError\u001b[0m                                Traceback (most recent call last)",
      "\u001b[1;32m<ipython-input-9-55a449310cae>\u001b[0m in \u001b[0;36m<module>\u001b[1;34m\u001b[0m\n\u001b[0;32m     33\u001b[0m \u001b[1;33m\u001b[0m\u001b[0m\n\u001b[0;32m     34\u001b[0m \u001b[0mprint\u001b[0m\u001b[1;33m(\u001b[0m\u001b[0mp\u001b[0m\u001b[1;33m.\u001b[0m\u001b[0mprice\u001b[0m\u001b[1;33m)\u001b[0m\u001b[1;33m\u001b[0m\u001b[1;33m\u001b[0m\u001b[0m\n\u001b[1;32m---> 35\u001b[1;33m \u001b[0mp\u001b[0m\u001b[1;33m.\u001b[0m\u001b[0mprice\u001b[0m \u001b[1;33m=\u001b[0m \u001b[1;33m-\u001b[0m\u001b[1;36m1000\u001b[0m\u001b[1;33m\u001b[0m\u001b[1;33m\u001b[0m\u001b[0m\n\u001b[0m\u001b[0;32m     36\u001b[0m \u001b[0mprint\u001b[0m\u001b[1;33m(\u001b[0m\u001b[0mp\u001b[0m\u001b[1;33m.\u001b[0m\u001b[0mprice\u001b[0m\u001b[1;33m)\u001b[0m\u001b[1;33m\u001b[0m\u001b[1;33m\u001b[0m\u001b[0m\n\u001b[0;32m     37\u001b[0m \u001b[1;33m\u001b[0m\u001b[0m\n",
      "\u001b[1;32m<ipython-input-9-55a449310cae>\u001b[0m in \u001b[0;36mprice\u001b[1;34m(self, value)\u001b[0m\n\u001b[0;32m     24\u001b[0m             \u001b[0mself\u001b[0m\u001b[1;33m.\u001b[0m\u001b[0m_price\u001b[0m \u001b[1;33m=\u001b[0m \u001b[0mvalue\u001b[0m\u001b[1;33m\u001b[0m\u001b[1;33m\u001b[0m\u001b[0m\n\u001b[0;32m     25\u001b[0m         \u001b[1;32melse\u001b[0m\u001b[1;33m:\u001b[0m\u001b[1;33m\u001b[0m\u001b[1;33m\u001b[0m\u001b[0m\n\u001b[1;32m---> 26\u001b[1;33m             \u001b[1;32mraise\u001b[0m \u001b[0mValueError\u001b[0m\u001b[1;33m(\u001b[0m\u001b[1;34m\"Ürün Fiyatı İçin Negatif Değer Yapılmaz.\"\u001b[0m\u001b[1;33m)\u001b[0m\u001b[1;33m\u001b[0m\u001b[1;33m\u001b[0m\u001b[0m\n\u001b[0m\u001b[0;32m     27\u001b[0m \u001b[1;33m\u001b[0m\u001b[0m\n\u001b[0;32m     28\u001b[0m \u001b[1;33m\u001b[0m\u001b[0m\n",
      "\u001b[1;31mValueError\u001b[0m: Ürün Fiyatı İçin Negatif Değer Yapılmaz."
     ]
    }
   ],
   "source": [
    "class Product():\n",
    "    \n",
    "    def __init__(self,name,price):\n",
    "        self.name = name\n",
    "        if price >= 0:\n",
    "            self._price = price          # Alt çizginin anlamı özelliğin sınıf dışından ulaşılmaması gerektiğini ifade eder. Yani class'a özel bir özellik.\n",
    "        else:\n",
    "            raise ValueError(\"Ürün Fiyatı İçin Negatif Değer Yapılmaz.\")\n",
    "    \n",
    "    \n",
    "    \n",
    "    @property           # Methot sanki bir özellik gibi çağırılabilecek.\n",
    "    def price(self):\n",
    "        \n",
    "        return self._price\n",
    "    \n",
    "    \n",
    "    \n",
    "    @price.setter                 # Set işlemi yapılacaksa ilk önce property ismi daha sonra \"setter\" methodu yapılır.    \n",
    "    def price(self,value):         # Property ismi price ve price aynı zamanda class içerisindeki bir methot.\n",
    "        \n",
    "        if value >= 0:\n",
    "            self._price = value         \n",
    "        else:\n",
    "            raise ValueError(\"Ürün Fiyatı İçin Negatif Değer Yapılmaz.\")\n",
    "\n",
    "        \n",
    "        \n",
    "    \n",
    "\n",
    "p = Product(\"İphone 12\",9000)\n",
    "\n",
    "print(p.price)\n",
    "p.price = -1000           # Property aynı bir özellik gibi yeniden tanımlandı. (Önceden methot formatında olmasına rağmen)\n",
    "print(p.price)               # Property formatına bu şekilde değer ataması yapıyoruz.\n",
    "\n",
    "\n"
   ]
  },
  {
   "cell_type": "code",
   "execution_count": null,
   "metadata": {},
   "outputs": [],
   "source": []
  },
  {
   "cell_type": "code",
   "execution_count": 21,
   "metadata": {},
   "outputs": [
    {
     "name": "stdout",
     "output_type": "stream",
     "text": [
      "9000\n",
      "İphone 12 Apple'ın y\n",
      "Yeni Kısa Açıklama DSFDHUISDGHUISHGUISH\n"
     ]
    }
   ],
   "source": [
    "class Product():\n",
    "    \n",
    "    def __init__(self,name,price,description):\n",
    "        \n",
    "        self.description = description\n",
    "        self.name = name\n",
    "        if price >= 0:\n",
    "            self._price = price    # Alt çizginin anlamı özelliğin sınıf dışından ulaşılmaması gerektiğini ifade eder. Yani class'a özel bir özellik.\n",
    "        else:\n",
    "            raise ValueError(\"Ürün Fiyatı İçin Negatif Değer Yapılmaz.\")\n",
    "    \n",
    "    \n",
    "    \n",
    "    @property           # Methot sanki bir özellik gibi çağırılabilecek.\n",
    "    def price(self):\n",
    "        \n",
    "        return self._price\n",
    "    \n",
    "    \n",
    "    \n",
    "    @price.setter                 # Set işlemi yapılacaksa ilk önce property ismi daha sonra \"setter\" methodu yapılır.    \n",
    "    def price(self,value):         # Property ismi price ve price aynı zamanda class içerisindeki bir methot.\n",
    "        \n",
    "        if value >= 0:\n",
    "            self._price = value         \n",
    "        else:\n",
    "            raise ValueError(\"Ürün Fiyatı İçin Negatif Değer Yapılmaz.\")\n",
    "            \n",
    "    \n",
    "    @property\n",
    "    def short_desc(self):\n",
    "        \n",
    "        return self.description[:20]\n",
    "    \n",
    "    \n",
    "    @short_desc.setter              # Buradaki fonksiyon işlemi propertydeki fonksiyon ile aynı olmak zorunda değil. Aynı isimle olması iyi olur.\n",
    "    def short_desc(self,new_description):\n",
    "        \n",
    "        self.description = new_description\n",
    "        \n",
    "\n",
    "      \n",
    "    \n",
    "\n",
    "p = Product(\"İphone 12\",9000,\"İphone 12 Apple'ın yeni çıkardığı son model telefonudur. Performanslı ile harikalar yaratıyor.\")\n",
    "\n",
    "print(p.price) \n",
    "print(p.short_desc)\n",
    "p.short_desc = \"DSFDHUISDGHUISHGUISH\"\n",
    "print(\"Yeni Kısa Açıklama\",p.short_desc)\n",
    "\n",
    "\n",
    "\n"
   ]
  },
  {
   "cell_type": "code",
   "execution_count": null,
   "metadata": {},
   "outputs": [],
   "source": []
  }
 ],
 "metadata": {
  "kernelspec": {
   "display_name": "Python 3",
   "language": "python",
   "name": "python3"
  },
  "language_info": {
   "codemirror_mode": {
    "name": "ipython",
    "version": 3
   },
   "file_extension": ".py",
   "mimetype": "text/x-python",
   "name": "python",
   "nbconvert_exporter": "python",
   "pygments_lexer": "ipython3",
   "version": "3.7.4"
  }
 },
 "nbformat": 4,
 "nbformat_minor": 4
}
