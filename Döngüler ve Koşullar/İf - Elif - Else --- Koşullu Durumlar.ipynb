{
 "cells": [
  {
   "cell_type": "markdown",
   "metadata": {},
   "source": [
    "# \n",
    "\n",
    "# İf - Else Koşullu Durumları"
   ]
  },
  {
   "cell_type": "code",
   "execution_count": 8,
   "metadata": {},
   "outputs": [
    {
     "name": "stdout",
     "output_type": "stream",
     "text": [
      "Lütfen ID Numaranızı Giriniz:5080\n",
      "ID Kabul Edildi\n",
      "İkinci Aşamaya Geçebilirsiniz.\n"
     ]
    }
   ],
   "source": [
    "\n",
    "ID = int(input(\"Lütfen ID Numaranızı Giriniz:\"))\n",
    "\n",
    "if ID == 5080:\n",
    "    print(\"ID Kabul Edildi\")\n",
    "    print(\"İkinci Aşamaya Geçebilirsiniz.\")\n",
    "    \n",
    "else:\n",
    "    \n",
    "    print(\"\\n\")\n",
    "    print(\"ID Numarasını eksik yada yanlış yazdınız!\")\n",
    "    print(\"Lütfen tekrar kontrol ediniz.\")\n",
    "    "
   ]
  },
  {
   "cell_type": "markdown",
   "metadata": {},
   "source": [
    "# "
   ]
  },
  {
   "cell_type": "code",
   "execution_count": 13,
   "metadata": {},
   "outputs": [
    {
     "name": "stdout",
     "output_type": "stream",
     "text": [
      "Lütfen Adınızı Giriniz:Murat\n",
      "Lütfen Soyadınızı Giriniz:Yıldırım\n",
      "Lütfen Banka Hesabı Numarasını Giriniz:1705401235\n",
      "\n",
      "\n",
      "Murat Yıldırım isimli kullanıcı tarafından 1705401235 nolu banka hesabına giriş işlemi gerçekleştirmektedir... \n",
      "\n",
      "\n",
      "Bankacılık Sayfasına Hoşgeldiniz :) \n"
     ]
    }
   ],
   "source": [
    "\n",
    "isim = input(\"Lütfen Adınızı Giriniz:\")\n",
    "soyad = input(\"Lütfen Soyadınızı Giriniz:\")\n",
    "ıd = int(input(\"Lütfen Banka Hesabı Numarasını Giriniz:\"))\n",
    "\n",
    "print(\"\\n\")\n",
    "print(\"{} {} isimli kullanıcı tarafından {} nolu banka hesabına giriş işlemi gerçekleştirmektedir... \".format(isim,soyad,ıd))\n",
    "\n",
    "if 16000000000 < ıd < 1699999999:\n",
    "    print(\"Lütfen Geçerli Olan ID Numarası Giriniz\")\n",
    "    \n",
    "else:\n",
    "    print(\"\\n\")\n",
    "    print(\"Bankacılık Sayfasına Hoşgeldiniz :) \")\n",
    "    "
   ]
  },
  {
   "cell_type": "markdown",
   "metadata": {},
   "source": [
    "# "
   ]
  },
  {
   "cell_type": "code",
   "execution_count": 18,
   "metadata": {},
   "outputs": [
    {
     "name": "stdout",
     "output_type": "stream",
     "text": [
      "Notunuzu Giriniz:75\n",
      "CB\n"
     ]
    }
   ],
   "source": [
    "\n",
    "note = float(input(\"Notunuzu Giriniz:\"))\n",
    "\n",
    "if (note >= 90):\n",
    "    print(\"AA\")\n",
    "elif (note >=85):\n",
    "    print(\"BA\")\n",
    "elif (note >=80):\n",
    "    print(\"BB\")\n",
    "elif (note >=75):                      # if'ler her zaman mutlaka çalışır ama elif'ler bir önceki duruma göre çalışır. Bir önceki koşul durumu çalışmış ise elif koşulu çalışmaz.\n",
    "    print(\"CB\")\n",
    "elif (note >=70):\n",
    "    print(\"CC\")\n",
    "elif (note >=65):\n",
    "    print(\"DC\")\n",
    "elif (note >=60):\n",
    "    print(\"DD\")\n",
    "    \n",
    "else:\n",
    "    \n",
    "    print(\"FF\")\n",
    "    "
   ]
  }
 ],
 "metadata": {
  "kernelspec": {
   "display_name": "Python 3",
   "language": "python",
   "name": "python3"
  },
  "language_info": {
   "codemirror_mode": {
    "name": "ipython",
    "version": 3
   },
   "file_extension": ".py",
   "mimetype": "text/x-python",
   "name": "python",
   "nbconvert_exporter": "python",
   "pygments_lexer": "ipython3",
   "version": "3.8.8"
  }
 },
 "nbformat": 4,
 "nbformat_minor": 4
}
