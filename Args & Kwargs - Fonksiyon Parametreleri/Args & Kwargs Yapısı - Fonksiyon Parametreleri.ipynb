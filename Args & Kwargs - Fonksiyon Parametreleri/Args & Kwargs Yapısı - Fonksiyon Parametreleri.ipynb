{
 "cells": [
  {
   "cell_type": "markdown",
   "id": "7b7783fa-c5c4-4699-ac59-496282813f6d",
   "metadata": {},
   "source": [
    "# -----------------------------------------------------------\n",
    "\n",
    "# *Args & **Kwargs Yapısı - Fonksiyon Parametreleri\n",
    "\n",
    "# -----------------------------------------------------------\n"
   ]
  },
  {
   "cell_type": "markdown",
   "id": "6dc3de26-4a01-4b71-8879-dee2b441f2f6",
   "metadata": {},
   "source": [
    "## *Args"
   ]
  },
  {
   "cell_type": "code",
   "execution_count": 52,
   "id": "faa15595-e2d4-4c2f-90ba-c30d9ba466c2",
   "metadata": {},
   "outputs": [
    {
     "name": "stdout",
     "output_type": "stream",
     "text": [
      "17\n"
     ]
    }
   ],
   "source": [
    "\n",
    "# Python fonksiyonlar içerisinde tanımlanan parametre kadar fonksiyonlara parametreler verilir.\n",
    "\n",
    "# Örnek I:\n",
    "\n",
    "\n",
    "def func_topla(sayı1,sayı2):\n",
    "    \n",
    "    print(sum([sayı1,sayı2]))\n",
    "\n",
    "    \n",
    "func_topla(9,8)"
   ]
  },
  {
   "cell_type": "code",
   "execution_count": 15,
   "id": "aa0b1cec-bd60-4fb8-988e-27669dd0b0c4",
   "metadata": {},
   "outputs": [
    {
     "ename": "TypeError",
     "evalue": "func_topla() takes 2 positional arguments but 3 were given",
     "output_type": "error",
     "traceback": [
      "\u001b[1;31m---------------------------------------------------------------------------\u001b[0m",
      "\u001b[1;31mTypeError\u001b[0m                                 Traceback (most recent call last)",
      "\u001b[1;32m<ipython-input-15-0bc61f762d88>\u001b[0m in \u001b[0;36m<module>\u001b[1;34m\u001b[0m\n\u001b[0;32m      9\u001b[0m \u001b[1;33m\u001b[0m\u001b[0m\n\u001b[0;32m     10\u001b[0m \u001b[1;33m\u001b[0m\u001b[0m\n\u001b[1;32m---> 11\u001b[1;33m \u001b[0mfunc_topla\u001b[0m\u001b[1;33m(\u001b[0m\u001b[1;36m9\u001b[0m\u001b[1;33m,\u001b[0m\u001b[1;36m8\u001b[0m\u001b[1;33m,\u001b[0m\u001b[1;36m10\u001b[0m\u001b[1;33m)\u001b[0m\u001b[1;33m\u001b[0m\u001b[1;33m\u001b[0m\u001b[0m\n\u001b[0m",
      "\u001b[1;31mTypeError\u001b[0m: func_topla() takes 2 positional arguments but 3 were given"
     ]
    }
   ],
   "source": [
    "\n",
    "\n",
    "# Ancak biz bu fonksiyona tanımlanan parametre sayısından daha fazla parametre girersek hata verir.\n",
    "\n",
    "# Örnek II:\n",
    "\n",
    "\n",
    "def func_topla(sayı1,sayı2):\n",
    "    \n",
    "    print(sum([sayı1,sayı2]))\n",
    "\n",
    "    \n",
    "func_topla(9,8,10)\n",
    "\n"
   ]
  },
  {
   "cell_type": "code",
   "execution_count": 36,
   "id": "cdcdfde8-8f85-4089-8eb1-ce5f1c622e84",
   "metadata": {},
   "outputs": [
    {
     "name": "stdout",
     "output_type": "stream",
     "text": [
      "7\n",
      "33\n"
     ]
    }
   ],
   "source": [
    "\n",
    "\n",
    "# Görüldüğü üzere bu tip hatalardan kaçınmak ve fonskiyona istediğimiz sayıda parametre verebilmemiz için \" *args \" yapısını kullanırız.\n",
    "\n",
    "# Fonksiyon kullanırken bazen dışardan alacağımız parametre sayısını bilmiyorsak veya parametre sayısı değişkenlik gösteriyorsa kullanılır.\n",
    "\n",
    "# Bu özellik ile fonksiyona dinamik bir yapı kazandırırız.\n",
    "\n",
    "\n",
    "# Örnek III:\n",
    "\n",
    "\n",
    "def toplama(*args):\n",
    "    \n",
    "    print(sum(args))\n",
    "    \n",
    "    \n",
    "    \n",
    "toplama(1,2,4)\n",
    "toplama(3,4,5,6,7,8)\n",
    "          \n",
    "          \n"
   ]
  },
  {
   "cell_type": "code",
   "execution_count": 38,
   "id": "bb0bb60b-ba55-4d7f-8c30-4739af2c97be",
   "metadata": {},
   "outputs": [
    {
     "name": "stdout",
     "output_type": "stream",
     "text": [
      "(1, 2, 4)\n",
      "(3, 4, 5, 6, 7, 8)\n"
     ]
    }
   ],
   "source": [
    "\n",
    "# Fonksiyon parametresinden önce yani args ifadesinden önce \" * \" işareti kullanıldığı için sonuç tuple olarak döner.\n",
    "\n",
    "# Aynı zamanda args ifadesi yerine herhangi başka bir ifade yazılabilir. Ancak yazılım dünyasında *args ve **kwargs standartlaşmış bir terim veya ifade haline gelmiştir.\n",
    "\n",
    "\n",
    "# Örnek IV:\n",
    "\n",
    "\n",
    "def args_örnek(*sayılar):\n",
    "    \n",
    "    print((sayılar))\n",
    "    \n",
    "    \n",
    "    \n",
    "args_örnek(1,2,4)\n",
    "args_örnek(3,4,5,6,7,8)\n",
    "          \n",
    "          \n"
   ]
  },
  {
   "cell_type": "markdown",
   "id": "43a997cd-71f6-4276-9fc1-6db5d5e53822",
   "metadata": {},
   "source": [
    "# \n",
    "\n",
    "## **Kwargs"
   ]
  },
  {
   "cell_type": "code",
   "execution_count": 39,
   "id": "bd820412-da77-471f-a690-13580d3a854d",
   "metadata": {},
   "outputs": [
    {
     "name": "stdout",
     "output_type": "stream",
     "text": [
      "{'x': 10, 'y': 20, 'z': 'Furkan'}\n"
     ]
    }
   ],
   "source": [
    "\n",
    "\n",
    "# Kwargs yapısının args yapısından en önemli farkı, fonksiyonu çağırırken anahtar değer ilişkisiyle çağırılabilmesidir.\n",
    "\n",
    "# Örnek V:\n",
    "\n",
    "\n",
    "def kwargs_ör(**kwargs):\n",
    "    \n",
    "    print(kwargs)\n",
    "    \n",
    "    \n",
    "kwargs_ör(x = 10, y = 20, z = \"Furkan\")   # Kwargs parametresinin fonksiyon içerisinde sağlıklı çalışabilmesi için değerlerimizi bu şekilde tanımlarız.\n",
    "    \n",
    "    \n",
    "    \n",
    "# ! Kwargs yapısı yani \"**\" çift yıldıza sahip parametreler fonskiyon içerisinde çalıştığında sonuç olarak sözlük yapısında dönerler.\n",
    "\n"
   ]
  },
  {
   "cell_type": "code",
   "execution_count": 40,
   "id": "e4f5735e-ef0f-4709-aea0-aa3da53db64b",
   "metadata": {},
   "outputs": [
    {
     "name": "stdout",
     "output_type": "stream",
     "text": [
      "{'x': 'Ankara', 'y': 'Bitcoin', 'z': 'Furkan'}\n"
     ]
    }
   ],
   "source": [
    "\n",
    "\n",
    "# Kwargs ifadesi yerine args yapısındaki gibi başka ifadeler konulabilir.\n",
    "\n",
    "# Örnek VI:\n",
    "\n",
    "\n",
    "def kwargs_ör(**sözlük):\n",
    "    \n",
    "    print(sözlük)\n",
    "    \n",
    "    \n",
    "kwargs_ör(x = \"Ankara\", y = \"Bitcoin\", z = \"Furkan\")\n",
    "    \n",
    "    \n",
    "    \n",
    "# ! Kwargs yapısı yani \"**\" çift yıldıza sahip parametreler fonskiyon içerisinde çalıştığında sonuç olarak sözlük yapısında dönerler.\n",
    "\n"
   ]
  },
  {
   "cell_type": "markdown",
   "id": "9f423893-c8b0-4361-90d0-a88324c68acd",
   "metadata": {},
   "source": [
    "# \n",
    "\n",
    "## *Args ve **Kwargs İfadelerinin Birlikte Kullanımı"
   ]
  },
  {
   "cell_type": "code",
   "execution_count": 50,
   "id": "38d49765-a213-4d9d-a2b3-589d89029090",
   "metadata": {},
   "outputs": [
    {
     "name": "stdout",
     "output_type": "stream",
     "text": [
      "Args parametresi olarak atanan değer: 10\n",
      "Args parametresi olarak atanan değer: 20\n",
      "Args parametresi olarak atanan değer: 30\n",
      "Args parametresi olarak atanan değer: Havva\n",
      "\n",
      "\n",
      "Key: x Value: Ankara\n",
      "Key: y Value: Bitcoin\n",
      "Key: z Value: Furkan\n"
     ]
    }
   ],
   "source": [
    "\n",
    "\n",
    "# Örnek VII:\n",
    "\n",
    "def fonkisyon(*args,**kwargs):\n",
    "    \n",
    "    \n",
    "    for i in args:\n",
    "        \n",
    "        print(\"Args parametresi olarak atanan değer:\",i)\n",
    "    \n",
    "    \n",
    "    print(\"\\n\")   # Boşluk koymak için kullanılır :)\n",
    "    \n",
    "    for x,z in kwargs.items():\n",
    "        \n",
    "        print(\"Key:\",x, \"Value:\",z)\n",
    "    \n",
    "    \n",
    "    \n",
    "    \n",
    "    \n",
    "    \n",
    "fonkisyon(10,20,30,\"Havva\", x = \"Ankara\", y = \"Bitcoin\", z = \"Furkan\")\n",
    "    \n",
    "    \n",
    "    \n",
    "\n",
    "\n"
   ]
  },
  {
   "cell_type": "code",
   "execution_count": 51,
   "id": "b6d8c155-44c0-4eef-a273-ab9969df3af6",
   "metadata": {},
   "outputs": [
    {
     "ename": "SyntaxError",
     "evalue": "invalid syntax (<ipython-input-51-227ca0eae119>, line 5)",
     "output_type": "error",
     "traceback": [
      "\u001b[1;36m  File \u001b[1;32m\"<ipython-input-51-227ca0eae119>\"\u001b[1;36m, line \u001b[1;32m5\u001b[0m\n\u001b[1;33m    def fonkisyon(**kwargs,*args):\u001b[0m\n\u001b[1;37m                           ^\u001b[0m\n\u001b[1;31mSyntaxError\u001b[0m\u001b[1;31m:\u001b[0m invalid syntax\n"
     ]
    }
   ],
   "source": [
    "\n",
    "\n",
    "\n",
    "# Mutlaka ama mutlaka fonskiyonun ilk parametresi args olmalıdır. Yoksa \" SyntaxError: invalid syntax \" hatası alırsınız.\n",
    "\n",
    "# Örnek VIII:\n",
    "\n",
    "\n",
    "\n",
    "def fonkisyon(**kwargs,*args):\n",
    "    \n",
    "    \n",
    "    for i in args:\n",
    "        \n",
    "        print(\"Args parametresi olarak atanan değer:\",i)\n",
    "    \n",
    "    \n",
    "    print(\"\\n\")   # Boşluk koymak için kullanılır :)\n",
    "    \n",
    "    for x,z in kwargs.items():\n",
    "        \n",
    "        print(\"Key:\",x, \"Value:\",z)\n",
    "    \n",
    "    \n",
    "    \n",
    "    \n",
    "    \n",
    "    \n",
    "fonkisyon(10,20,30,\"Havva\", x = \"Ankara\", y = \"Bitcoin\", z = \"Furkan\")\n",
    "    \n",
    "    \n",
    "    \n"
   ]
  },
  {
   "cell_type": "code",
   "execution_count": null,
   "id": "a228a819-7e35-4f18-83a9-6ca96b299348",
   "metadata": {},
   "outputs": [],
   "source": []
  }
 ],
 "metadata": {
  "kernelspec": {
   "display_name": "Python 3",
   "language": "python",
   "name": "python3"
  },
  "language_info": {
   "codemirror_mode": {
    "name": "ipython",
    "version": 3
   },
   "file_extension": ".py",
   "mimetype": "text/x-python",
   "name": "python",
   "nbconvert_exporter": "python",
   "pygments_lexer": "ipython3",
   "version": "3.8.8"
  }
 },
 "nbformat": 4,
 "nbformat_minor": 5
}
