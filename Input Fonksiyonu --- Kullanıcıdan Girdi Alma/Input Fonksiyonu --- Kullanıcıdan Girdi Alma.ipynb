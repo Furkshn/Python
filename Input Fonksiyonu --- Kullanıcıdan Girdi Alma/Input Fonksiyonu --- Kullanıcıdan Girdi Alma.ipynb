{
 "cells": [
  {
   "cell_type": "markdown",
   "metadata": {},
   "source": [
    "#\n",
    "# Input Fonksiyonu - Kullanıcıdan Girdi Alma İşlemi"
   ]
  },
  {
   "cell_type": "code",
   "execution_count": 1,
   "metadata": {},
   "outputs": [
    {
     "name": "stdout",
     "output_type": "stream",
     "text": [
      "100\n"
     ]
    },
    {
     "data": {
      "text/plain": [
       "'100'"
      ]
     },
     "execution_count": 1,
     "metadata": {},
     "output_type": "execute_result"
    }
   ],
   "source": [
    "\n",
    "input()       # Bir fonksiyona veya işleme dışarıdan(müşteri,kullanıcı vs.) bir değer girilmesini istediğimi zaman input() fonksiyonunu kullanırız.\n",
    "\n",
    "              # Input fonksiyonu ile herhangi bir veri dışarıdan alınabilir.\n",
    "    "
   ]
  },
  {
   "cell_type": "code",
   "execution_count": 2,
   "metadata": {},
   "outputs": [
    {
     "name": "stdout",
     "output_type": "stream",
     "text": [
      "Lütfen Değer Giriniz:5646261891\n"
     ]
    },
    {
     "data": {
      "text/plain": [
       "'5646261891'"
      ]
     },
     "execution_count": 2,
     "metadata": {},
     "output_type": "execute_result"
    }
   ],
   "source": [
    "\n",
    "# Örnek I\n",
    "    \n",
    "input(\"Lütfen Değer Giriniz:\")\n"
   ]
  },
  {
   "cell_type": "code",
   "execution_count": 4,
   "metadata": {},
   "outputs": [
    {
     "name": "stdout",
     "output_type": "stream",
     "text": [
      "Lütfen Değer Giriniz:050\n",
      "Girilen Değer=  050\n"
     ]
    }
   ],
   "source": [
    "\n",
    "# Örnek II\n",
    "\n",
    "x = input(\"Lütfen Değer Giriniz:\")\n",
    "print(\"Girilen Değer= \",x)\n"
   ]
  },
  {
   "cell_type": "code",
   "execution_count": 5,
   "metadata": {},
   "outputs": [
    {
     "name": "stdout",
     "output_type": "stream",
     "text": [
      "Lütfen Değer Giriniz:50\n",
      "5050505050\n"
     ]
    }
   ],
   "source": [
    "\n",
    "# Örnek III\n",
    "\n",
    "x = input(\"Lütfen Değer Giriniz:\")\n",
    "print(x*5)      \n"
   ]
  },
  {
   "cell_type": "code",
   "execution_count": 6,
   "metadata": {},
   "outputs": [
    {
     "name": "stdout",
     "output_type": "stream",
     "text": [
      "Lütfen Değer Giriniz:50\n",
      "<class 'str'>\n"
     ]
    }
   ],
   "source": [
    "\n",
    "# Örnek IV\n",
    "\n",
    "x = input(\"Lütfen Değer Giriniz:\")\n",
    "print(type(x)) \n",
    "#----- İnput string tipi olarak çıkar."
   ]
  },
  {
   "cell_type": "code",
   "execution_count": null,
   "metadata": {},
   "outputs": [],
   "source": [
    "\n",
    "# Örnek V\n",
    "\n",
    "a = int(input(\"Lütfen bir sayı giriniz.\"))\n",
    "print(a * 10)     \n",
    "\n",
    "#---------- Veri tipini dönüştürerek bu sorunu ortadan kaldırırız."
   ]
  },
  {
   "cell_type": "code",
   "execution_count": null,
   "metadata": {},
   "outputs": [],
   "source": [
    "\n",
    "# Örnek VI\n",
    "\n",
    "v = int(input(\"TC Kimlik Numaranızı Giriniz:\"))\n",
    "n = int(input(\"ID Numaranızı Giriniz:))\n",
    "m = (input(\"Hesabınız Aktifleştirildi.\"))\n",
    "print(\"Son Aşama:\",m)\n",
    "              "
   ]
  },
  {
   "cell_type": "code",
   "execution_count": null,
   "metadata": {},
   "outputs": [],
   "source": [
    "\n",
    "# Örnek VIII\n",
    "\n",
    "e = int(input(\"Hesaplamak İstediğiniz İlk Sayıyı Giriniz:\"))\n",
    "r = int(input(\"Hesaplamak İstediğiniz İkinci Sayıyı Giriniz:\"))\n",
    "print(\"Sonuç:\",r*e)\n"
   ]
  },
  {
   "cell_type": "code",
   "execution_count": null,
   "metadata": {},
   "outputs": [],
   "source": [
    "\n",
    "# Örnek IX\n",
    "\n",
    "Sonuc = input(\"Lütfen Doğru Harfleri Giriniz:\")\n",
    "print(\"=\",Sonuc)\n"
   ]
  },
  {
   "cell_type": "code",
   "execution_count": 1,
   "metadata": {},
   "outputs": [
    {
     "name": "stdin",
     "output_type": "stream",
     "text": [
      "Lütfen Sayı Herhangi Bir Sayı Giriniz: 5\n"
     ]
    },
    {
     "name": "stdout",
     "output_type": "stream",
     "text": [
      "Girilen Değer: 5\n",
      "\n",
      "Girilen Değerin Veri Tipi: <class 'str'>\n"
     ]
    }
   ],
   "source": [
    "\n",
    "# Örnek X\n",
    "\n",
    "girdi = str(input(\"Lütfen Sayı Herhangi Bir Sayı Giriniz:\"))    # Girdi olarak sayı girdik ancak str() fonksiyonu ile veri formatını string hale getirdik. Bu şekilde veri girme işlemlerinde format değişiklikleri yapılabilir.\n",
    "\n",
    "print(f\"Girilen Değer: {girdi}\" + \"\\n\")\n",
    "\n",
    "print(\"Girilen Değerin Veri Tipi:\", type(girdi))\n",
    "\n"
   ]
  },
  {
   "cell_type": "code",
   "execution_count": null,
   "metadata": {},
   "outputs": [],
   "source": []
  }
 ],
 "metadata": {
  "kernelspec": {
   "display_name": "Python 3",
   "language": "python",
   "name": "python3"
  },
  "language_info": {
   "codemirror_mode": {
    "name": "ipython",
    "version": 3
   },
   "file_extension": ".py",
   "mimetype": "text/x-python",
   "name": "python",
   "nbconvert_exporter": "python",
   "pygments_lexer": "ipython3",
   "version": "3.8.8"
  }
 },
 "nbformat": 4,
 "nbformat_minor": 4
}
