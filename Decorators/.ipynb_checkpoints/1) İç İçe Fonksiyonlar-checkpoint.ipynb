{
 "cells": [
  {
   "cell_type": "markdown",
   "metadata": {},
   "source": [
    "# Decorators --- İç İçe Fonksiyonlar"
   ]
  },
  {
   "cell_type": "code",
   "execution_count": 19,
   "metadata": {},
   "outputs": [
    {
     "name": "stdout",
     "output_type": "stream",
     "text": [
      "Hoşgeldin Furkan\n",
      "None\n"
     ]
    }
   ],
   "source": [
    "\n",
    "# Example I\n",
    "\n",
    "\n",
    "def fonk(isim):\n",
    "    \n",
    "    \n",
    "    def isim_çıkarma(isim):\n",
    "        \n",
    "        print(\"Hoşgeldin\",isim)\n",
    "    \n",
    "    return isim_çıkarma(isim)\n",
    "\n",
    "\n",
    "isim = fonk              # Fonksiyonu değişken olarak atadık !\n",
    "\n",
    "print(isim(\"Furkan\"))\n"
   ]
  },
  {
   "cell_type": "code",
   "execution_count": 20,
   "metadata": {},
   "outputs": [
    {
     "name": "stdout",
     "output_type": "stream",
     "text": [
      "3628800\n"
     ]
    }
   ],
   "source": [
    "\n",
    "\n",
    "# Example II\n",
    "\n",
    "def factorial(number):\n",
    "    \n",
    "    def inner_factorial(number):\n",
    "        \n",
    "        if number <= 1:    \n",
    "            return 1\n",
    "        \n",
    "        return number * inner_factorial(number-1)\n",
    "    \n",
    "    return inner_factorial(number)\n",
    "\n",
    "\n",
    "print(factorial(10))"
   ]
  },
  {
   "cell_type": "code",
   "execution_count": null,
   "metadata": {},
   "outputs": [],
   "source": []
  }
 ],
 "metadata": {
  "kernelspec": {
   "display_name": "Python 3",
   "language": "python",
   "name": "python3"
  },
  "language_info": {
   "codemirror_mode": {
    "name": "ipython",
    "version": 3
   },
   "file_extension": ".py",
   "mimetype": "text/x-python",
   "name": "python",
   "nbconvert_exporter": "python",
   "pygments_lexer": "ipython3",
   "version": "3.7.4"
  }
 },
 "nbformat": 4,
 "nbformat_minor": 4
}
