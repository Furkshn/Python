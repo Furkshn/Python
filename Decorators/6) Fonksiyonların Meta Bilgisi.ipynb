{
 "cells": [
  {
   "cell_type": "markdown",
   "metadata": {},
   "source": [
    "# Decorators - Fonksiyonların Meta Bilgisi"
   ]
  },
  {
   "cell_type": "code",
   "execution_count": 11,
   "metadata": {},
   "outputs": [
    {
     "name": "stdout",
     "output_type": "stream",
     "text": [
      "\n",
      "Çağırdığınız Methot İsmi: toplam\n",
      "Methot Bilgisi:  Fonksiyon Toplama İşlemi Yapar.\n",
      "11\n",
      "\n",
      "Çağırdığınız Methot İsmi: çarpma\n",
      "Methot Bilgisi:  Fonksiyon Çarpma İşlemi Yapar.\n",
      "30\n",
      "\n",
      "Çağırdığınız Methot İsmi: bölme\n",
      "Methot Bilgisi:  Fonksiyon Bölme İşlemi Yapar.\n",
      "0.8333333333333334\n"
     ]
    }
   ],
   "source": [
    "def decorators(fonksiyon):\n",
    "    \n",
    "    def wrapper(*args,**kwargs):\n",
    "        print(\"\")\n",
    "        print(f\"Çağırdığınız Methot İsmi: {fonksiyon.__name__}\")\n",
    "        print(f\"Methot Bilgisi: {fonksiyon.__doc__}\")\n",
    "        \n",
    "        return fonksiyon(*args,**kwargs)\n",
    "    \n",
    "    return wrapper                       # Decorators fonksiyonu içerisindeki fonksiyonu return etmeyi unutma yoksa decorator çalışmaz !\n",
    "    \n",
    "\n",
    "@decorators\n",
    "def toplam(x,y):\n",
    "    \n",
    "    \"\"\" Fonksiyon Toplama İşlemi Yapar.\"\"\"\n",
    "    return x + y\n",
    "\n",
    "\n",
    "@decorators\n",
    "def çarpma(x,y):\n",
    "    \n",
    "    \"\"\" Fonksiyon Çarpma İşlemi Yapar.\"\"\"\n",
    "    \n",
    "    return x * y\n",
    "\n",
    "\n",
    "@decorators\n",
    "def bölme(x,y):\n",
    "    \n",
    "    \"\"\" Fonksiyon Bölme İşlemi Yapar.\"\"\"\n",
    "    return x / y\n",
    "\n",
    "\n",
    "print(toplam(5,6))\n",
    "\n",
    "print(çarpma(5,6))\n",
    "\n",
    "print(bölme(5,6))"
   ]
  },
  {
   "cell_type": "code",
   "execution_count": null,
   "metadata": {},
   "outputs": [],
   "source": []
  }
 ],
 "metadata": {
  "kernelspec": {
   "display_name": "Python 3",
   "language": "python",
   "name": "python3"
  },
  "language_info": {
   "codemirror_mode": {
    "name": "ipython",
    "version": 3
   },
   "file_extension": ".py",
   "mimetype": "text/x-python",
   "name": "python",
   "nbconvert_exporter": "python",
   "pygments_lexer": "ipython3",
   "version": "3.7.4"
  }
 },
 "nbformat": 4,
 "nbformat_minor": 4
}
