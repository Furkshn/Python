{
 "cells": [
  {
   "cell_type": "markdown",
   "metadata": {},
   "source": [
    "# Decorator - Parametre Alan Decorator Fonksiyonlar"
   ]
  },
  {
   "cell_type": "code",
   "execution_count": 2,
   "metadata": {},
   "outputs": [
    {
     "name": "stdout",
     "output_type": "stream",
     "text": [
      "\n",
      "Hello\n",
      "Decorator Çalıştı\n",
      "\n",
      "HelloGeldimmm\n",
      "Decorator Çalıştı\n",
      "\n",
      "return_mesaj fonk çalıştı.\n",
      "Decorator Çalıştı\n",
      "None\n"
     ]
    }
   ],
   "source": [
    "def do_twice(func):\n",
    "    \n",
    "    def wrapper(*args,**kwargs):\n",
    "        print(\"\")\n",
    "        func(*args,**kwargs)           # Çıktıda \"None\" olmasının sebebi burada fonksiyon çalıştırılıyor ancak fonksiyonda değer return edilmiyor...\n",
    "        print(\"Decorator Çalıştı\")\n",
    "\n",
    "    return wrapper\n",
    "\n",
    "\n",
    "@do_twice\n",
    "def hello():\n",
    "    \n",
    "    print(\"Hello\")\n",
    "    \n",
    "    \n",
    "@do_twice   \n",
    "def mesaj(msg):\n",
    "    \n",
    "    print(\"Hello\" + msg)\n",
    "    \n",
    "    \n",
    "@do_twice   \n",
    "def return_mesaj(name):\n",
    "    \n",
    "    print(\"return_mesaj fonk çalıştı.\")\n",
    "    \n",
    "    return f\"{name} çalıştı\"\n",
    "    \n",
    "hello()\n",
    "mesaj(\"Geldimmm\")\n",
    "print(return_mesaj(\"Furkan\"))"
   ]
  },
  {
   "cell_type": "markdown",
   "metadata": {},
   "source": [
    "### Decorator fonksiyonlara parametre atamak için yeni bir methot atamamız gerekir."
   ]
  },
  {
   "cell_type": "code",
   "execution_count": 11,
   "metadata": {},
   "outputs": [
    {
     "name": "stdout",
     "output_type": "stream",
     "text": [
      "\n",
      "Hello\n",
      "Hello\n",
      "\n",
      "HelloGeldimmm\n",
      "HelloGeldimmm\n",
      "HelloGeldimmm\n",
      "HelloGeldimmm\n",
      "HelloGeldimmm\n",
      "\n",
      "return_mesaj fonk çalıştı.\n",
      "return_mesaj fonk çalıştı.\n",
      "return_mesaj fonk çalıştı.\n",
      "return_mesaj fonk çalıştı.\n",
      "return_mesaj fonk çalıştı.\n",
      "return_mesaj fonk çalıştı.\n",
      "return_mesaj fonk çalıştı.\n",
      "None\n"
     ]
    }
   ],
   "source": [
    "def do_dec_twice(count):\n",
    "    \n",
    "    def do_twice(func):\n",
    "\n",
    "        def wrapper(*args,**kwargs):\n",
    "            print(\"\")\n",
    "            for _ in range(count):\n",
    "                func(*args,**kwargs)           # Decorator fonksiyonuna parametre atamak için yeni bir methot tanımlamak gerekir ve yeniden dcorator tanımlanması yapmak gerekir.\n",
    "\n",
    "        return wrapper\n",
    "    return do_twice\n",
    "\n",
    "\n",
    "@do_dec_twice(count = 2)  # Decorator fonksiyonuna parametre tanımlandı !\n",
    "def hello():\n",
    "    \n",
    "    print(\"Hello\")\n",
    "    \n",
    "    \n",
    "@do_dec_twice(count = 5)\n",
    "def mesaj(msg):\n",
    "    \n",
    "    print(\"Hello\" + msg)\n",
    "    \n",
    "    \n",
    "@do_dec_twice(count = 7)  \n",
    "def return_mesaj(name):\n",
    "    \n",
    "    print(\"return_mesaj fonk çalıştı.\")\n",
    "    \n",
    "    return f\"{name} çalıştı\"\n",
    "\n",
    "hello()\n",
    "mesaj(\"Geldimmm\")\n",
    "print(return_mesaj(\"Furkan\"))"
   ]
  },
  {
   "cell_type": "code",
   "execution_count": null,
   "metadata": {},
   "outputs": [],
   "source": []
  }
 ],
 "metadata": {
  "kernelspec": {
   "display_name": "Python 3",
   "language": "python",
   "name": "python3"
  },
  "language_info": {
   "codemirror_mode": {
    "name": "ipython",
    "version": 3
   },
   "file_extension": ".py",
   "mimetype": "text/x-python",
   "name": "python",
   "nbconvert_exporter": "python",
   "pygments_lexer": "ipython3",
   "version": "3.7.4"
  }
 },
 "nbformat": 4,
 "nbformat_minor": 4
}
