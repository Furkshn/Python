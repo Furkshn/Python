{
 "cells": [
  {
   "cell_type": "markdown",
   "metadata": {},
   "source": [
    "# Decorators --- Fonksiyonları Parametre Olarak Gönderme"
   ]
  },
  {
   "cell_type": "code",
   "execution_count": 3,
   "metadata": {},
   "outputs": [
    {
     "name": "stdout",
     "output_type": "stream",
     "text": [
      "8\n",
      "50.0\n",
      "Geçersiz İşlem\n"
     ]
    }
   ],
   "source": [
    "def toplama(a,b):\n",
    "    \n",
    "    return a + b\n",
    "\n",
    "def cıkarma(a,b):          # Parametre olarak atanacak olan fonksiyonlar\n",
    "\n",
    "    return a - b\n",
    "\n",
    "def carpma(a,b):\n",
    "    \n",
    "    return a * b\n",
    "\n",
    "def bolme(a,b):\n",
    "    \n",
    "    return a / b\n",
    "\n",
    "\n",
    "\n",
    "\n",
    "def islem(f1,f2,f3,f4, islem_adı):         # f1 = Toplama Fonksiyonu,  f2 = Çıkarma Fonksiyonu ...\n",
    "    \n",
    "    if islem_adı == \"Toplama\":\n",
    "        \n",
    "        print(f1(2,6))\n",
    "        \n",
    "        \n",
    "    elif islem_adı == \"Çıkarma\":\n",
    "        \n",
    "        print(f2(1,8))\n",
    "        \n",
    "        \n",
    "            \n",
    "    elif islem_adı == \"Çarpma\":\n",
    "        \n",
    "        print(f3(0,8890))\n",
    "        \n",
    "                \n",
    "    elif islem_adı == \"Bölme\":\n",
    "        \n",
    "        print(f4(100,2))\n",
    "        \n",
    "    else:\n",
    "        \n",
    "        print(\"Geçersiz İşlem\")\n",
    "    \n",
    "        \n",
    "    \n",
    "islem(toplama,cıkarma,carpma,bolme, \"Toplama\")\n",
    "islem(toplama,cıkarma,carpma,bolme, \"Bölme\")\n",
    "islem(toplama,cıkarma,carpma,bolme, \"Toplamaaa\")"
   ]
  },
  {
   "cell_type": "code",
   "execution_count": null,
   "metadata": {},
   "outputs": [],
   "source": []
  }
 ],
 "metadata": {
  "kernelspec": {
   "display_name": "Python 3",
   "language": "python",
   "name": "python3"
  },
  "language_info": {
   "codemirror_mode": {
    "name": "ipython",
    "version": 3
   },
   "file_extension": ".py",
   "mimetype": "text/x-python",
   "name": "python",
   "nbconvert_exporter": "python",
   "pygments_lexer": "ipython3",
   "version": "3.7.4"
  }
 },
 "nbformat": 4,
 "nbformat_minor": 4
}
