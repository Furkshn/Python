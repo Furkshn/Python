{
 "cells": [
  {
   "cell_type": "markdown",
   "metadata": {},
   "source": [
    "# Decorators - Decorators Parametreleri"
   ]
  },
  {
   "cell_type": "code",
   "execution_count": 11,
   "metadata": {},
   "outputs": [
    {
     "name": "stdout",
     "output_type": "stream",
     "text": [
      "Hello\n",
      "Decorator Çalıştı\n",
      "Hello\n",
      "HelloGeldimmm\n",
      "Decorator Çalıştı\n",
      "HelloGeldimmm\n"
     ]
    }
   ],
   "source": [
    "def do_twice(func):\n",
    "    \n",
    "    def wrapper(*args,**kwargs):        # Birden fazla fonksiyon dahil olduğundan dolayı parametreler *args ve **kwargs olarak yazılır.\n",
    "        func(*args,**kwargs)\n",
    "        print(\"Decorator Çalıştı\")\n",
    "        func(*args,**kwargs)\n",
    "    return wrapper\n",
    "\n",
    "\n",
    "@do_twice\n",
    "def hello():\n",
    "    \n",
    "    print(\"Hello\")\n",
    "    \n",
    "    \n",
    "@do_twice   \n",
    "def mesaj(msg):\n",
    "    \n",
    "    print(\"Hello\" + msg)\n",
    "    \n",
    "hello()\n",
    "mesaj(\"Geldimmm\")"
   ]
  },
  {
   "cell_type": "code",
   "execution_count": 15,
   "metadata": {},
   "outputs": [
    {
     "name": "stdout",
     "output_type": "stream",
     "text": [
      "Hello\n",
      "Decorator Çalıştı\n",
      "HelloGeldimmm\n",
      "Decorator Çalıştı\n",
      "return_mesaj fonk çalıştı.\n",
      "Decorator Çalıştı\n",
      "None\n"
     ]
    }
   ],
   "source": [
    "def do_twice(func):\n",
    "    \n",
    "    def wrapper(*args,**kwargs):\n",
    "        func(*args,**kwargs)           # Çıktıda \"None\" olmasının sebebi burada fonksiyon çalıştırılıyor ancak fonksiyonda değer return edilmiyor...\n",
    "        print(\"Decorator Çalıştı\")\n",
    "\n",
    "    return wrapper\n",
    "\n",
    "\n",
    "@do_twice\n",
    "def hello():\n",
    "    \n",
    "    print(\"Hello\")\n",
    "    \n",
    "    \n",
    "@do_twice   \n",
    "def mesaj(msg):\n",
    "    \n",
    "    print(\"Hello\" + msg)\n",
    "    \n",
    "    \n",
    "@do_twice   \n",
    "def return_mesaj(name):\n",
    "    \n",
    "    print(\"return_mesaj fonk çalıştı.\")\n",
    "    \n",
    "    return f\"{name} çalıştı\"\n",
    "    \n",
    "hello()\n",
    "mesaj(\"Geldimmm\")\n",
    "print(return_mesaj(\"Furkan\"))"
   ]
  },
  {
   "cell_type": "code",
   "execution_count": 29,
   "metadata": {},
   "outputs": [
    {
     "name": "stdout",
     "output_type": "stream",
     "text": [
      "\n",
      "Decorator Çalıştı\n",
      "Merhaba\n",
      "\n",
      "Decorator Çalıştı\n",
      "Merhaba Ne Arzu Edersiniz ?\n",
      "\n",
      "Decorator Çalıştı\n",
      "return_mesaj fonksiyonu çalıştı.\n",
      "Sayın Furkan Hoşgeldiniz !\n"
     ]
    }
   ],
   "source": [
    "def do_twice(func):\n",
    "    \n",
    "    def wrapper(*args,**kwargs):\n",
    "        \n",
    "        print(\"\")\n",
    "        print(\"Decorator Çalıştı\")\n",
    "        return func(*args,**kwargs)        # Fonksiyon return edilince \"None\" ifadesi ortadan kalktı.\n",
    "    return wrapper\n",
    "\n",
    "\n",
    "\n",
    "\n",
    "@do_twice\n",
    "def hello():\n",
    "    \n",
    "    print(\"Merhaba\")\n",
    "    \n",
    "    \n",
    "@do_twice   \n",
    "def mesaj(msg):\n",
    "    \n",
    "    print(\"Merhaba \" + msg)\n",
    "    \n",
    "    \n",
    "@do_twice   \n",
    "def return_mesaj(name):\n",
    "    \n",
    "    print(\"return_mesaj fonksiyonu çalıştı.\")\n",
    "    \n",
    "    return f\"Sayın {name} Hoşgeldiniz !\"\n",
    "\n",
    "\n",
    "\n",
    "hello()\n",
    "mesaj(\"Ne Arzu Edersiniz ?\")\n",
    "print(return_mesaj(\"Furkan\"))\n"
   ]
  },
  {
   "cell_type": "code",
   "execution_count": null,
   "metadata": {},
   "outputs": [],
   "source": []
  }
 ],
 "metadata": {
  "kernelspec": {
   "display_name": "Python 3",
   "language": "python",
   "name": "python3"
  },
  "language_info": {
   "codemirror_mode": {
    "name": "ipython",
    "version": 3
   },
   "file_extension": ".py",
   "mimetype": "text/x-python",
   "name": "python",
   "nbconvert_exporter": "python",
   "pygments_lexer": "ipython3",
   "version": "3.7.4"
  }
 },
 "nbformat": 4,
 "nbformat_minor": 4
}
