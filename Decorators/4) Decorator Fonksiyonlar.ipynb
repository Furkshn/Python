{
 "cells": [
  {
   "cell_type": "markdown",
   "metadata": {},
   "source": [
    "# Decorators"
   ]
  },
  {
   "cell_type": "markdown",
   "metadata": {},
   "source": [
    "### Kod öncesi veya sonrasında bir kod çalıştırmak istersek decoratorsları kullanırız.\n",
    "#          \n",
    "### Decorator fonksiyonlar, Pythonda fonksiyonlarımıza dinamik olarak ekstra özellik eklediğimiz fonksiyonlardır.\n",
    "\n",
    "#               \n",
    "### Decorator fonksiyonların kullanımı kod tekrarı yapmamızı engeller.\n",
    "\n",
    "#              \n",
    "### Pythonda decorator fonksiyonlar Flask gibi frameworklerde oldukça fazla kullanılır.\n"
   ]
  },
  {
   "cell_type": "code",
   "execution_count": 5,
   "metadata": {},
   "outputs": [
    {
     "name": "stdout",
     "output_type": "stream",
     "text": [
      "Decorator Çalıştı\n",
      "Hoş Geldiniz\n",
      "İyi Günler\n"
     ]
    }
   ],
   "source": [
    "\n",
    "# Decorator Mantığı İle İlgili Örnek\n",
    "\n",
    "\n",
    "def selamlama(fn):   # fn = selamlama fonksiyonuna gönderilen ve parametre şeklinde gönderilen bir fonksiyondur.\n",
    "    \n",
    "    def wrapper():\n",
    "        print(\"Decorator Çalıştı\")\n",
    "        fn()\n",
    "        \n",
    "    return wrapper\n",
    "\n",
    "def mesaj():\n",
    "    \n",
    "    print(\"Hoş Geldiniz !\")\n",
    "    print(\"Görüşmek Üzere :)\")\n",
    "    \n",
    "    \n",
    "def iyigünler():\n",
    "    \n",
    "    print(\"Hoş Geldiniz\")\n",
    "    print(\"İyi Günler\")\n",
    "    \n",
    "    \n",
    "\n",
    "g = selamlama(iyigünler)      # iyigünler fonksiyonu referans olarak alındı ve selamlama fonksiyonuna parametre olarak gönderildi.\n",
    "    \n",
    "g()\n",
    "    "
   ]
  },
  {
   "cell_type": "code",
   "execution_count": 9,
   "metadata": {},
   "outputs": [
    {
     "name": "stdout",
     "output_type": "stream",
     "text": [
      "Decorator Çalıştı\n",
      "Hoş Geldiniz\n",
      "İyi Günler\n"
     ]
    }
   ],
   "source": [
    "\n",
    "# Decorator Kullanımı\n",
    "\n",
    "\n",
    "\n",
    "def selamlama(fn):   # fn = selamlama fonksiyonuna gönderilen ve parametre şeklinde gönderilen bir fonksiyondur.\n",
    "    \n",
    "    def wrapper():\n",
    "        print(\"Decorator Çalıştı\")\n",
    "        fn()\n",
    "        \n",
    "    return wrapper\n",
    "\n",
    "@selamlama              # decorator olarak çalıştırmak için kullanılır.\n",
    "\n",
    "def iyigünler():\n",
    "    \n",
    "    print(\"Hoş Geldiniz\")\n",
    "    print(\"İyi Günler\")\n",
    "    \n",
    "    \n",
    "\n",
    "iyigünler()"
   ]
  },
  {
   "cell_type": "code",
   "execution_count": 20,
   "metadata": {},
   "outputs": [
    {
     "name": "stdout",
     "output_type": "stream",
     "text": [
      "Decorator Çalıştı\n",
      "\n",
      "100\n",
      "\n",
      "Fonksiyona ek kodlama bilgisi girildi.\n"
     ]
    }
   ],
   "source": [
    "\n",
    "\n",
    "# Decorator Kullanımı Örneği II\n",
    "\n",
    "\n",
    "def decorator(fonk_param):   # Fonksiyon parametre olarak gelir.\n",
    "    \n",
    "    def wrapper(ekleme_değeri):       # Özellik eklemek istediğimiz fonksiyonun gerekli olan parametresini wrapper parametresine ekleriz.\n",
    "        \n",
    "        print(\"Decorator Çalıştı\" +\"\\n\")\n",
    "        fonk_param(ekleme_değeri)\n",
    "        print(\"\")\n",
    "        print(\"Fonksiyona ek kodlama bilgisi girildi.\")\n",
    "        \n",
    "    return wrapper\n",
    "        \n",
    "        \n",
    "@decorator        \n",
    "def fonk(ekleme_değeri):\n",
    "    \n",
    "    yük = ekleme_değeri * 10\n",
    "    \n",
    "    print(yük)\n",
    "    \n",
    "    \n",
    "    \n",
    "fonk(10)"
   ]
  },
  {
   "cell_type": "code",
   "execution_count": null,
   "metadata": {},
   "outputs": [],
   "source": []
  }
 ],
 "metadata": {
  "kernelspec": {
   "display_name": "Python 3",
   "language": "python",
   "name": "python3"
  },
  "language_info": {
   "codemirror_mode": {
    "name": "ipython",
    "version": 3
   },
   "file_extension": ".py",
   "mimetype": "text/x-python",
   "name": "python",
   "nbconvert_exporter": "python",
   "pygments_lexer": "ipython3",
   "version": "3.7.4"
  }
 },
 "nbformat": 4,
 "nbformat_minor": 4
}
