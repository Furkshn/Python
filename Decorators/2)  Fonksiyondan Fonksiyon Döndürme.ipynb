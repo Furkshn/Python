{
 "cells": [
  {
   "cell_type": "markdown",
   "metadata": {},
   "source": [
    "# Decorators --- İç İçe Fonksiyonlar"
   ]
  },
  {
   "cell_type": "code",
   "execution_count": 5,
   "metadata": {},
   "outputs": [
    {
     "name": "stdout",
     "output_type": "stream",
     "text": [
      "16\n"
     ]
    }
   ],
   "source": [
    "\n",
    "# Example I\n",
    "\n",
    "\n",
    "def usalma(number):\n",
    "    \n",
    "    def inner(power):\n",
    "        \n",
    "        return number ** power\n",
    "    \n",
    "    return inner\n",
    "\n",
    "\n",
    "\n",
    "two = usalma(2)   # Usalma fonksiyonuna değişken olarak atadık.\n",
    "\n",
    "\n",
    "print(two(4))    # İnner fonksiyonuna parametre gönderilir."
   ]
  },
  {
   "cell_type": "code",
   "execution_count": 6,
   "metadata": {},
   "outputs": [
    {
     "data": {
      "text/plain": [
       "\u001b[1;31mSignature:\u001b[0m \u001b[0mtwo\u001b[0m\u001b[1;33m(\u001b[0m\u001b[0mpower\u001b[0m\u001b[1;33m)\u001b[0m\u001b[1;33m\u001b[0m\u001b[1;33m\u001b[0m\u001b[0m\n",
       "\u001b[1;31mDocstring:\u001b[0m <no docstring>\n",
       "\u001b[1;31mFile:\u001b[0m      c:\\users\\furkan\\desktop\\python\\decorators\\<ipython-input-5-8b41f5c7c2e1>\n",
       "\u001b[1;31mType:\u001b[0m      function\n"
      ]
     },
     "metadata": {},
     "output_type": "display_data"
    }
   ],
   "source": [
    "?two"
   ]
  },
  {
   "cell_type": "code",
   "execution_count": 3,
   "metadata": {},
   "outputs": [
    {
     "name": "stdout",
     "output_type": "stream",
     "text": [
      "Admin rolü Product Edit sayfasına ulaşabilir.\n",
      "User rolü Product Edit sayfasına ulaşamaz.\n"
     ]
    }
   ],
   "source": [
    "\n",
    "# Example II\n",
    "\n",
    "\n",
    "def yetki_sorgula(page):\n",
    "    \n",
    "    def inner(role):\n",
    "        \n",
    "        if role == \"Admin\":\n",
    "            \n",
    "            return \"{0} rolü {1} sayfasına ulaşabilir.\".format(role,page)\n",
    "        else:\n",
    "            \n",
    "            return \"{0} rolü {1} sayfasına ulaşamaz.\".format(role,page)\n",
    "        \n",
    "    return inner\n",
    "        \n",
    "        \n",
    "\n",
    "user1 = yetki_sorgula(\"Product Edit\")\n",
    "\n",
    "print(user1(\"Admin\"))\n",
    "print(user1(\"User\"))"
   ]
  },
  {
   "cell_type": "code",
   "execution_count": 14,
   "metadata": {},
   "outputs": [
    {
     "name": "stdout",
     "output_type": "stream",
     "text": [
      "20\n",
      "0\n"
     ]
    }
   ],
   "source": [
    "\n",
    "# Example III\n",
    "\n",
    "\n",
    "def islem(islem_adı):\n",
    "    \n",
    "    def toplam(*args):\n",
    "        \n",
    "        toplam = 0\n",
    "        for i in args:\n",
    "            toplam +=i\n",
    "        \n",
    "        return toplam\n",
    "    \n",
    "    def carp(*args):\n",
    "        carpma = 0\n",
    "        for i in args:\n",
    "            \n",
    "            carpma *= i\n",
    "            \n",
    "        return carpma\n",
    "    \n",
    "    if islem_adı == \"Toplama\":       # İslem adı \"Toplama\" olursa toplam fonksiyonu çalışacak.\n",
    "        \n",
    "        return toplam\n",
    "    \n",
    "    elif islem_adı == \"Çarpma\":        # İslem adı \"Çarpma\" olursa carp fonksiyonu çalışacak.\n",
    "        \n",
    "        return carp\n",
    "    \n",
    "    \n",
    "toplama = islem(\"Toplama\")\n",
    "print(toplama(2,3,4,5,6))\n",
    "\n",
    "\n",
    "çarpma_işlemi = islem(\"Çarpma\")\n",
    "print(çarpma_işlemi(3,5,6,2,8,8,7,6,6))"
   ]
  }
 ],
 "metadata": {
  "kernelspec": {
   "display_name": "Python 3",
   "language": "python",
   "name": "python3"
  },
  "language_info": {
   "codemirror_mode": {
    "name": "ipython",
    "version": 3
   },
   "file_extension": ".py",
   "mimetype": "text/x-python",
   "name": "python",
   "nbconvert_exporter": "python",
   "pygments_lexer": "ipython3",
   "version": "3.7.4"
  }
 },
 "nbformat": 4,
 "nbformat_minor": 4
}
