{
 "cells": [
  {
   "cell_type": "markdown",
   "metadata": {},
   "source": [
    "# Decorator - Decorator ile Hız Testi"
   ]
  },
  {
   "cell_type": "code",
   "execution_count": 6,
   "metadata": {},
   "outputs": [
    {
     "name": "stdout",
     "output_type": "stream",
     "text": [
      "\n",
      "sum_gen function working...\n",
      "Geçen Süre 0.05127929999997605\n",
      "499999500000\n",
      "\n",
      "sum_list function working...\n",
      "Geçen Süre 0.06294550000001209\n",
      "499999500000\n"
     ]
    }
   ],
   "source": [
    "import time\n",
    "\n",
    "def speed_test(func):\n",
    "    \n",
    "    def wrapper(*args,**kwargs):\n",
    "        \n",
    "        print(\"\")\n",
    "        start_time = time.perf_counter()\n",
    "        print(f\"{func.__name__} function working...\")\n",
    "        result = func(*args,**kwargs)\n",
    "        end_time = time.perf_counter()\n",
    "        run_time = end_time - start_time\n",
    "        \n",
    "        print(f\"Geçen Süre {run_time}\")\n",
    "        \n",
    "        return result\n",
    "    \n",
    "    return wrapper\n",
    "\n",
    "\n",
    "@speed_test\n",
    "def sum_gen():\n",
    "    \n",
    "    return sum((i for i in range(1000000)))\n",
    "\n",
    "@speed_test\n",
    "def sum_list():\n",
    "    \n",
    "    return sum([i for i in range(1000000)])\n",
    "\n",
    "\n",
    "\n",
    "print(sum_gen())\n",
    "\n",
    "print(sum_list())"
   ]
  },
  {
   "cell_type": "code",
   "execution_count": null,
   "metadata": {},
   "outputs": [],
   "source": []
  }
 ],
 "metadata": {
  "kernelspec": {
   "display_name": "Python 3",
   "language": "python",
   "name": "python3"
  },
  "language_info": {
   "codemirror_mode": {
    "name": "ipython",
    "version": 3
   },
   "file_extension": ".py",
   "mimetype": "text/x-python",
   "name": "python",
   "nbconvert_exporter": "python",
   "pygments_lexer": "ipython3",
   "version": "3.7.4"
  }
 },
 "nbformat": 4,
 "nbformat_minor": 4
}
